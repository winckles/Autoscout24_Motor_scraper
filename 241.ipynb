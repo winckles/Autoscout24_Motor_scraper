{
  "nbformat": 4,
  "nbformat_minor": 0,
  "metadata": {
    "kernelspec": {
      "display_name": "Python 3",
      "language": "python",
      "name": "python3"
    },
    "language_info": {
      "codemirror_mode": {
        "name": "ipython",
        "version": 3
      },
      "file_extension": ".py",
      "mimetype": "text/x-python",
      "name": "python",
      "nbconvert_exporter": "python",
      "pygments_lexer": "ipython3",
      "version": "3.7.6"
    },
    "colab": {
      "name": "241.ipynb",
      "provenance": []
    }
  },
  "cells": [
    {
      "cell_type": "markdown",
      "metadata": {
        "id": "rVQQxrg_zCve"
      },
      "source": [
        "# Capstone Project"
      ]
    },
    {
      "cell_type": "markdown",
      "metadata": {
        "id": "hZHUBlKMzCvx"
      },
      "source": [
        "## Background"
      ]
    },
    {
      "cell_type": "markdown",
      "metadata": {
        "id": "OoRJtDqbzCvy"
      },
      "source": [
        "Woah time really flies and you already reached the last sprint of the second module in the course! You should be proud of yourself. In the past three sprints you were gaining precious knowledge that helped you acquire data engineering skills. Now you should know what good Python code looks like, why OOP is used, how to structure a Python project, how to work with SQL, how to develop and deploy a web application. All these skills will enable you to make outstanding projects that not only cover data analysis and modeling but also making your discoveries reachable to other people.\n",
        "\n",
        "Now the time has come to put all your learnings into one place and complete the second capstone project of the course. During this project, you will have to create a Python package, collect dataset using data scraping technique, train model and deploy it for others to reach.\n",
        "\n",
        "Most importantly you will have to create the whole E2E Machine Learning plan: establish the problem, collect dataset, train model, evaluate it and deploy it. By completing this project, you will strengthen your data engineering skills and prove to yourself and others that you are capable of planning and executing data science projects."
      ]
    },
    {
      "cell_type": "markdown",
      "metadata": {
        "id": "0IqKPUa6zCvy"
      },
      "source": [
        "<div style=\"text-align: center;\">\n",
        "<img src=\"https://miro.medium.com/max/700/1*x7P7gqjo8k2_bj2rTQWAfg.jpeg\"/ width=\"300px\">\n",
        "</div>"
      ]
    },
    {
      "cell_type": "markdown",
      "metadata": {
        "id": "uZae0sqLzCvz"
      },
      "source": [
        "---"
      ]
    },
    {
      "cell_type": "markdown",
      "metadata": {
        "id": "2JqYhVjizCvz"
      },
      "source": [
        "## Requirements\n",
        "The whole capstone project requires you to execute full-featured E2E Machine Learning Project so let's see what actually do you have to complete:\n",
        "\n",
        "### Define problem you want to solve\n",
        "This is the part where you have to select a problem. Here are the topics that you can choose from: text classification, price prediction, item category classification. Through the second module of the course, you saw a few examples of datasets that could be used to solve these problems (eBay listings, Reddit posts, Twitter tweets). In this stage you have to:\n",
        "- Define the problem and create a short presentation\n",
        "- Explain what do you want to solve, and what is the potential value of your solution\n",
        "- Define the data source you will collect data from\n",
        "\n",
        "### Collecting data\n",
        "During this stage, you will need to create a Python package that is able to scrape a specific website. You saw many examples during the period of the second module, where functions that take few arguments (`keywords`, `number of samples`, etc.) and outputs pandas `DataFrame`s were created. Now you will need to transform this functionality into a Python package that is installable through pip.\n",
        "- Create Python package that is able to scrape specific webpage\n",
        "- The package should be installable through `pip`\n",
        "- The package should meed all expected Python package standards: clean code, tests, documentation.\n",
        "- Collect and process dataset using your created package\n",
        "\n",
        "### Training and saving the model\n",
        "During this step, you will need to use your collected data to train, test, and save a machine learning model. Do not spend much time on this step just make sure that:\n",
        "- Correct machine learning algorithm is selected\n",
        "- Model is successfully trained (remember first module of the course)\n",
        "- Model is saved for later deployment\n",
        "\n",
        "### Creating API for the trained model\n",
        "This is the step you have done at least a couple of times. You will need to create an API using Flask. While creating the application you will need to do these things:\n",
        "- Load trained model\n",
        "- Create inference pipeline\n",
        "- Create `POST` route to reach model and send its outputs as a response\n",
        "\n",
        "### Tracking model's predictions\n",
        "Now you will need to enable model's predictions tracking. During this step, you will need to connect your flask application to the PostgreSQL database hosted by Heroku and put the model's inputs and outputs into one table:\n",
        "- Create PostgreSQL database hosted by Heroku\n",
        "- Create table for predictions tracking. There should be columns for inputs and outputs of model\n",
        "- At every request of model insert required values to the database\n",
        "- Create new route in Flask application that returns 10 most recent requests and responses in JSON format\n",
        "\n",
        "### Deploying the application\n",
        "After completing all the steps required above, you will need to deploy your application to Heroku. You will need to follow the steps provided in the fourth lesson of this sprint.\n",
        "- Make sure all secrets and passwords are set as ENV variables in Heroku\n",
        "- Deploy application to Heroku\n",
        "- Ensure that your application is accessible (provide link to it)"
      ]
    },
    {
      "cell_type": "markdown",
      "metadata": {
        "id": "J1zSKaFazCv0"
      },
      "source": [
        "---"
      ]
    },
    {
      "cell_type": "markdown",
      "metadata": {
        "id": "fBD1dJGIzCv0"
      },
      "source": [
        "## Evaluation criteria\n",
        "- All requirements are met\n",
        "- The project is well thought out. Defined problem is clearly presented\n",
        "- Model actually works, is able to make predictions that make sense\n",
        "- Written code is clear and clean. All the PEP8 standards are met"
      ]
    },
    {
      "cell_type": "code",
      "metadata": {
        "colab": {
          "base_uri": "https://localhost:8080/"
        },
        "id": "gYnZ3Xi3zRVC",
        "outputId": "17d5ac52-4949-45c3-dd25-5acc849b2c93"
      },
      "source": [
        "!pip install beautifulsoup4"
      ],
      "execution_count": 1,
      "outputs": [
        {
          "output_type": "stream",
          "text": [
            "Requirement already satisfied: beautifulsoup4 in /usr/local/lib/python3.6/dist-packages (4.6.3)\n"
          ],
          "name": "stdout"
        }
      ]
    },
    {
      "cell_type": "code",
      "metadata": {
        "id": "VHxnUybPzooJ"
      },
      "source": [
        "from bs4 import BeautifulSoup\n",
        "import requests\n",
        "import pandas as pd"
      ],
      "execution_count": null,
      "outputs": []
    },
    {
      "cell_type": "code",
      "metadata": {
        "id": "O9spj2OXKLxc"
      },
      "source": [
        "headers = {\"User-Agent\": \"Mozilla/5.0\"}\n",
        "\n",
        "URL = \"https://www.autoscout24.nl/aanbod/honda-others-crf250r-ralley-benzine-rood-150226c1-6304-46fb-928e-3cd6da1db945?cldtidx=6&cldtsrc=listPage&searchId=b9380bcf\"\n",
        "page = requests.get(URL, headers=headers)\n",
        "\n",
        "soup = BeautifulSoup(page.content, \"html.parser\")\n",
        "km = soup.find(\"div\", class_=\"cldt-price\")\n",
        "mile = soup.find(\"span\", class_=\"cldt-stage-primary-keyfact\")\n",
        "kw = soup.find(\"span\", class_=\"sc-font-l cldt-stage-primary-keyfact\")\n",
        "print(km.text)\n",
        "print(mile.text)\n",
        "print(kw.text)"
      ],
      "execution_count": null,
      "outputs": []
    },
    {
      "cell_type": "code",
      "metadata": {
        "colab": {
          "base_uri": "https://localhost:8080/"
        },
        "id": "gp4t9Ya1IYwS",
        "outputId": "9993fe43-a234-436a-9a00-cb69f59a6f40"
      },
      "source": [
        "headers = {\"User-Agent\": \"Mozilla/5.0\"}\n",
        "\n",
        "URL = \"https://www.autoscout24.nl/aanbod/honda-others-crf250r-ralley-benzine-rood-150226c1-6304-46fb-928e-3cd6da1db945?cldtidx=6&cldtsrc=listPage&searchId=b9380bcf\"\n",
        "page = requests.get(URL, headers=headers)\n",
        "\n",
        "km = []\n",
        "km.extend([value.text for value in soup.find_all(\"span\", class_=\"cldt-stage-primary-keyfact\")])\n",
        "print(km)\n"
      ],
      "execution_count": 87,
      "outputs": [
        {
          "output_type": "stream",
          "text": [
            "['3.221 km', '02/2020', '18 kW', '24 PK', '3.221 km', '02/2020', '18 kW', '24 PK']\n"
          ],
          "name": "stdout"
        }
      ]
    },
    {
      "cell_type": "code",
      "metadata": {
        "colab": {
          "base_uri": "https://localhost:8080/"
        },
        "id": "Ev0EPYCgBphX",
        "outputId": "32170483-ce62-4b48-ff4d-0e0020495895"
      },
      "source": [
        "headers = {\"User-Agent\": \"Mozilla/5.0\"}\n",
        "\n",
        "URL = \"https://www.autoscout24.nl/lst-moto?sort=standard&desc=0&ustate=N%2CU&size=20&page=2\"\n",
        "page = requests.get(URL, headers=headers)\n",
        "\n",
        "soup = BeautifulSoup(page.content, \"html.parser\")\n",
        "km = []\n",
        "km.extend([value[\"href\"] for value in soup.find_all(attrs={\"data-item-name\":\"detail-page-link\"})])\n",
        "print(km)\n",
        "\n",
        "# for title in soup.find_all(attrs={\"data-type\": \"milage\"}):\n",
        "#     print(title)\n",
        "    "
      ],
      "execution_count": 72,
      "outputs": [
        {
          "output_type": "stream",
          "text": [
            "['/aanbod/kawasaki-z-125-jetzt-vorbestellen-benzine-zwart-63347bfa-d1f2-418a-b95d-443048f7cacd', '/aanbod/kawasaki-ninja-125-jetzt-vorbestellen-benzine-e31d045e-77b8-4d09-9f8b-161b8491eeef', '/aanbod/kawasaki-ninja-400-ninja-400-abs-led-1-hand-top-zustand-insp-neu-benzine-groen-731db28b-7894-4fcc-8096-fef9dc5fc14f', '/aanbod/bmw-f-800-gs-0-benzine-grijs-a6326ce3-2040-480c-994f-11300b3b2199', '/aanbod/vespa-gts-300-super-hpe-versand-moeglich-benzine-b5e415d7-25e0-47f5-99e4-b3934a42ce00', '/aanbod/honda-others-crf250r-ralley-benzine-rood-150226c1-6304-46fb-928e-3cd6da1db945', '/aanbod/honda-others-cbf1000a-benzine-zilver-122cbc99-8417-43c9-8fb3-3c27bac56f91', '/aanbod/ktm-125-duke-versand-moeglich-benzine-zilver-45e1b1f4-e755-4c1f-a9c1-fab3fc413b34', '/aanbod/ktm-125-duke-mj21-jetzt-vorbestellen-benzine-zwart-914dcddc-99b0-483d-a3cc-82d9d149343c', '/aanbod/tgb-blade-550-efi-eco-lof-4x4-special-edition-inkl-koffer-benzine-blauw-295ab125-c90d-4bbb-9218-4e5232efcb30', '/aanbod/kawasaki-vn-1500-drifter-benzine-rood-0bce79f9-06fb-4736-a310-bc5a3e393b18', '/aanbod/ktm-950-adventure-koffer-sturzbuegel-benzine-zwart-534b896b-90a6-45f6-9e3f-00db213439ff', '/aanbod/ktm-690-duke-32-kw-drossel-akrapovic-auspuff-benzine-wit-6c177bbe-f131-4db1-a327-0839b07c84c5', '/aanbod/tgb-blade-550-efi-eco-lof-4x4-benzine-oranje-aa07ae36-3469-468b-b519-d736281b1bf6', '/aanbod/ktm-390-duke-2021-ktm-speer-benzine-wit-d4f4cdee-4385-45f7-8b3b-6a35f01980f1', '/aanbod/tgb-blade-550-efi-4x4-lof-eps-eco-limitert-333-stueck-benzine-blauw-81875aa8-5b99-46e8-b878-910622858793', '/aanbod/honda-nc-750-nc-750-x-led-abs-1000km-insp-inkl-wenig-km-overig-zwart-74c99758-2e6f-4e06-a114-e24a3a0c4efb', '/aanbod/moto-guzzi-stelvio-1200-sitzheizung-scheckheft-benzine-rood-9203853c-c0d1-4408-aa47-dd9815892dfa', '/aanbod/kawasaki-w-650-1-hand-benzine-zwart-8f0d5348-c3b0-4132-ba56-49c2a68275d3', '/aanbod/kawasaki-vulcan-900-custom-falcon-auspuffanlage-benzine-groen-98bcebcd-d260-4099-b543-f80a7d4792a0']\n"
          ],
          "name": "stdout"
        }
      ]
    },
    {
      "cell_type": "code",
      "metadata": {
        "id": "wKbrpELL_yxf"
      },
      "source": [
        "def collect(pages_number: int) -> pd.DataFrame:\n",
        "    \"\"\" Scrape url for number of pages and a keyword\n",
        "    and returns a pandas dataframe\"\"\"\n",
        "    title, price, km, registration, owners = ([] for i in range(5))\n",
        "\n",
        "    for page_no in range(1, pages_number + 1):\n",
        "        url = f\"https://www.autoscout24.nl/lst-moto?sort=standard&desc=0&ustate=N%2CU&size=20&page={page_no}\"\n",
        "        print(page_no)\n",
        "\n",
        "        headers = {\"User-Agent\": \"Mozilla/5.0\"}\n",
        "        page = requests.get(url, headers=headers)\n",
        "        soup = BeautifulSoup(page.content, \"html.parser\")\n",
        "\n",
        "        price.extend([value.text for value in soup.find_all(\"span\", class_=\"sc-font-xl\")])\n",
        "        title.extend([value.text for value in soup.find_all(\"h2\", class_=\"cldt-summary-makemodel\")])\n",
        "        km.extend([value.text for value in soup.find_all(attrs={\"data-type\": \"mileage\"})])\n",
        "        registration.extend([value.text for value in soup.find_all(attrs={\"data-type\": \"first-registration\"})])\n",
        "        owners.extend([value.text for value in soup.find_all(attrs={\"data-type\": \"previous-owners\"})])\n",
        "\n",
        "    dict_ = {\n",
        "        \"title\": title,\n",
        "        \"price\": price,\n",
        "        \"milage\": km,\n",
        "        \"first_registration\": registration,\n",
        "        \"previous_owners\": owners\n",
        "    }\n",
        "\n",
        "    df = pd.DataFrame.from_dict(dict_, orient='index')\n",
        "    df = df.transpose()\n",
        "\n",
        "    return df"
      ],
      "execution_count": 75,
      "outputs": []
    },
    {
      "cell_type": "code",
      "metadata": {
        "colab": {
          "base_uri": "https://localhost:8080/"
        },
        "id": "8p5RMgIQAkkY",
        "outputId": "ec398da3-f6e3-4770-fc9b-52fb8e7886bc"
      },
      "source": [
        "df = collect(4)"
      ],
      "execution_count": 76,
      "outputs": [
        {
          "output_type": "stream",
          "text": [
            "1\n",
            "2\n",
            "3\n",
            "4\n"
          ],
          "name": "stdout"
        }
      ]
    },
    {
      "cell_type": "code",
      "metadata": {
        "colab": {
          "base_uri": "https://localhost:8080/"
        },
        "id": "x2yFD_ea_KMJ",
        "outputId": "f70cffa8-c12a-4874-8b5f-df2b740fde99"
      },
      "source": [
        "df.shape"
      ],
      "execution_count": 77,
      "outputs": [
        {
          "output_type": "execute_result",
          "data": {
            "text/plain": [
              "(80, 5)"
            ]
          },
          "metadata": {
            "tags": []
          },
          "execution_count": 77
        }
      ]
    },
    {
      "cell_type": "code",
      "metadata": {
        "colab": {
          "base_uri": "https://localhost:8080/",
          "height": 204
        },
        "id": "YCS_2BtB8HvS",
        "outputId": "79145717-5868-4adf-8cac-dfb135000674"
      },
      "source": [
        "df.head()"
      ],
      "execution_count": 78,
      "outputs": [
        {
          "output_type": "execute_result",
          "data": {
            "text/html": [
              "<div>\n",
              "<style scoped>\n",
              "    .dataframe tbody tr th:only-of-type {\n",
              "        vertical-align: middle;\n",
              "    }\n",
              "\n",
              "    .dataframe tbody tr th {\n",
              "        vertical-align: top;\n",
              "    }\n",
              "\n",
              "    .dataframe thead th {\n",
              "        text-align: right;\n",
              "    }\n",
              "</style>\n",
              "<table border=\"1\" class=\"dataframe\">\n",
              "  <thead>\n",
              "    <tr style=\"text-align: right;\">\n",
              "      <th></th>\n",
              "      <th>title</th>\n",
              "      <th>price</th>\n",
              "      <th>milage</th>\n",
              "      <th>first_registration</th>\n",
              "      <th>previous_owners</th>\n",
              "    </tr>\n",
              "  </thead>\n",
              "  <tbody>\n",
              "    <tr>\n",
              "      <th>0</th>\n",
              "      <td>PGO X-Rider 150</td>\n",
              "      <td>\\n€ 690,-\\n</td>\n",
              "      <td>\\n4.000 km\\n</td>\n",
              "      <td>\\n07/2004\\n</td>\n",
              "      <td>\\n-/- (Vorige eigenaren)\\n</td>\n",
              "    </tr>\n",
              "    <tr>\n",
              "      <th>1</th>\n",
              "      <td>Suzuki VX 800</td>\n",
              "      <td>\\n€ 950,-\\n</td>\n",
              "      <td>\\n75.331 km\\n</td>\n",
              "      <td>\\n05/1992\\n</td>\n",
              "      <td>\\n-/- (Vorige eigenaren)\\n</td>\n",
              "    </tr>\n",
              "    <tr>\n",
              "      <th>2</th>\n",
              "      <td>Suzuki RF 600</td>\n",
              "      <td>\\n€ 1.450,-\\n</td>\n",
              "      <td>\\n30.461 km\\n</td>\n",
              "      <td>\\n03/1997\\n</td>\n",
              "      <td>\\n2 vorige eigenaren\\n</td>\n",
              "    </tr>\n",
              "    <tr>\n",
              "      <th>3</th>\n",
              "      <td>Jinling</td>\n",
              "      <td>\\n€ 1.650,-\\n</td>\n",
              "      <td>\\n875 km\\n</td>\n",
              "      <td>\\n05/2012\\n</td>\n",
              "      <td>\\n-/- (Vorige eigenaren)\\n</td>\n",
              "    </tr>\n",
              "    <tr>\n",
              "      <th>4</th>\n",
              "      <td>Moto Guzzi</td>\n",
              "      <td>\\n€ 1.950,-\\n</td>\n",
              "      <td>\\n13.274 km\\n</td>\n",
              "      <td>\\n04/2004\\n</td>\n",
              "      <td>\\n-/- (Vorige eigenaren)\\n</td>\n",
              "    </tr>\n",
              "  </tbody>\n",
              "</table>\n",
              "</div>"
            ],
            "text/plain": [
              "             title  ...             previous_owners\n",
              "0  PGO X-Rider 150  ...  \\n-/- (Vorige eigenaren)\\n\n",
              "1    Suzuki VX 800  ...  \\n-/- (Vorige eigenaren)\\n\n",
              "2    Suzuki RF 600  ...      \\n2 vorige eigenaren\\n\n",
              "3          Jinling  ...  \\n-/- (Vorige eigenaren)\\n\n",
              "4       Moto Guzzi  ...  \\n-/- (Vorige eigenaren)\\n\n",
              "\n",
              "[5 rows x 5 columns]"
            ]
          },
          "metadata": {
            "tags": []
          },
          "execution_count": 78
        }
      ]
    },
    {
      "cell_type": "code",
      "metadata": {
        "colab": {
          "base_uri": "https://localhost:8080/",
          "height": 204
        },
        "id": "srS6ukzL-bXF",
        "outputId": "dd18cf92-4188-4e51-de1f-8ce610d7d36d"
      },
      "source": [
        "df.post_score = df.post_score.str.replace('.', '')\n",
        "df.head()"
      ],
      "execution_count": 50,
      "outputs": [
        {
          "output_type": "execute_result",
          "data": {
            "text/html": [
              "<div>\n",
              "<style scoped>\n",
              "    .dataframe tbody tr th:only-of-type {\n",
              "        vertical-align: middle;\n",
              "    }\n",
              "\n",
              "    .dataframe tbody tr th {\n",
              "        vertical-align: top;\n",
              "    }\n",
              "\n",
              "    .dataframe thead th {\n",
              "        text-align: right;\n",
              "    }\n",
              "</style>\n",
              "<table border=\"1\" class=\"dataframe\">\n",
              "  <thead>\n",
              "    <tr style=\"text-align: right;\">\n",
              "      <th></th>\n",
              "      <th>post_score</th>\n",
              "      <th>post_thumb_url</th>\n",
              "    </tr>\n",
              "  </thead>\n",
              "  <tbody>\n",
              "    <tr>\n",
              "      <th>0</th>\n",
              "      <td>\\n€ 690,-\\n</td>\n",
              "      <td>PGO X-Rider 150</td>\n",
              "    </tr>\n",
              "    <tr>\n",
              "      <th>1</th>\n",
              "      <td>\\n€ 950,-\\n</td>\n",
              "      <td>Suzuki VX 800</td>\n",
              "    </tr>\n",
              "    <tr>\n",
              "      <th>2</th>\n",
              "      <td>\\n€ 1450,-\\n</td>\n",
              "      <td>Suzuki RF 600</td>\n",
              "    </tr>\n",
              "    <tr>\n",
              "      <th>3</th>\n",
              "      <td>\\n€ 1650,-\\n</td>\n",
              "      <td>Jinling</td>\n",
              "    </tr>\n",
              "    <tr>\n",
              "      <th>4</th>\n",
              "      <td>\\n€ 1950,-\\n</td>\n",
              "      <td>Moto Guzzi</td>\n",
              "    </tr>\n",
              "  </tbody>\n",
              "</table>\n",
              "</div>"
            ],
            "text/plain": [
              "     post_score   post_thumb_url\n",
              "0   \\n€ 690,-\\n  PGO X-Rider 150\n",
              "1   \\n€ 950,-\\n    Suzuki VX 800\n",
              "2  \\n€ 1450,-\\n    Suzuki RF 600\n",
              "3  \\n€ 1650,-\\n          Jinling\n",
              "4  \\n€ 1950,-\\n       Moto Guzzi"
            ]
          },
          "metadata": {
            "tags": []
          },
          "execution_count": 50
        }
      ]
    },
    {
      "cell_type": "code",
      "metadata": {
        "colab": {
          "base_uri": "https://localhost:8080/",
          "height": 204
        },
        "id": "7n9lMMUv8MHn",
        "outputId": "423519f2-0728-40e2-ad25-7d759e2e1c9b"
      },
      "source": [
        "df.post_score = df.post_score.str.extract('(\\d+)')\n",
        "df.head()"
      ],
      "execution_count": 51,
      "outputs": [
        {
          "output_type": "execute_result",
          "data": {
            "text/html": [
              "<div>\n",
              "<style scoped>\n",
              "    .dataframe tbody tr th:only-of-type {\n",
              "        vertical-align: middle;\n",
              "    }\n",
              "\n",
              "    .dataframe tbody tr th {\n",
              "        vertical-align: top;\n",
              "    }\n",
              "\n",
              "    .dataframe thead th {\n",
              "        text-align: right;\n",
              "    }\n",
              "</style>\n",
              "<table border=\"1\" class=\"dataframe\">\n",
              "  <thead>\n",
              "    <tr style=\"text-align: right;\">\n",
              "      <th></th>\n",
              "      <th>post_score</th>\n",
              "      <th>post_thumb_url</th>\n",
              "    </tr>\n",
              "  </thead>\n",
              "  <tbody>\n",
              "    <tr>\n",
              "      <th>0</th>\n",
              "      <td>690</td>\n",
              "      <td>PGO X-Rider 150</td>\n",
              "    </tr>\n",
              "    <tr>\n",
              "      <th>1</th>\n",
              "      <td>950</td>\n",
              "      <td>Suzuki VX 800</td>\n",
              "    </tr>\n",
              "    <tr>\n",
              "      <th>2</th>\n",
              "      <td>1450</td>\n",
              "      <td>Suzuki RF 600</td>\n",
              "    </tr>\n",
              "    <tr>\n",
              "      <th>3</th>\n",
              "      <td>1650</td>\n",
              "      <td>Jinling</td>\n",
              "    </tr>\n",
              "    <tr>\n",
              "      <th>4</th>\n",
              "      <td>1950</td>\n",
              "      <td>Moto Guzzi</td>\n",
              "    </tr>\n",
              "  </tbody>\n",
              "</table>\n",
              "</div>"
            ],
            "text/plain": [
              "  post_score   post_thumb_url\n",
              "0        690  PGO X-Rider 150\n",
              "1        950    Suzuki VX 800\n",
              "2       1450    Suzuki RF 600\n",
              "3       1650          Jinling\n",
              "4       1950       Moto Guzzi"
            ]
          },
          "metadata": {
            "tags": []
          },
          "execution_count": 51
        }
      ]
    },
    {
      "cell_type": "markdown",
      "metadata": {
        "id": "sUIsqjlg2v5h"
      },
      "source": [
        "Hi Mary, It's time for another 1-on-1 :D Although, this time I want you to think about all the stuff you have covered so far in the course, and I want to talk about the things that you know/feel that you don't know and what topic (in data science) you think you could improve in. When would suit you?"
      ]
    }
  ]
}