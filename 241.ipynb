{
  "nbformat": 4,
  "nbformat_minor": 0,
  "metadata": {
    "kernelspec": {
      "display_name": "Python 3",
      "language": "python",
      "name": "python3"
    },
    "language_info": {
      "codemirror_mode": {
        "name": "ipython",
        "version": 3
      },
      "file_extension": ".py",
      "mimetype": "text/x-python",
      "name": "python",
      "nbconvert_exporter": "python",
      "pygments_lexer": "ipython3",
      "version": "3.7.6"
    },
    "colab": {
      "name": "241.ipynb",
      "provenance": []
    }
  },
  "cells": [
    {
      "cell_type": "markdown",
      "metadata": {
        "id": "rVQQxrg_zCve"
      },
      "source": [
        "# Capstone Project"
      ]
    },
    {
      "cell_type": "markdown",
      "metadata": {
        "id": "hZHUBlKMzCvx"
      },
      "source": [
        "## Background"
      ]
    },
    {
      "cell_type": "markdown",
      "metadata": {
        "id": "OoRJtDqbzCvy"
      },
      "source": [
        "Woah time really flies and you already reached the last sprint of the second module in the course! You should be proud of yourself. In the past three sprints you were gaining precious knowledge that helped you acquire data engineering skills. Now you should know what good Python code looks like, why OOP is used, how to structure a Python project, how to work with SQL, how to develop and deploy a web application. All these skills will enable you to make outstanding projects that not only cover data analysis and modeling but also making your discoveries reachable to other people.\n",
        "\n",
        "Now the time has come to put all your learnings into one place and complete the second capstone project of the course. During this project, you will have to create a Python package, collect dataset using data scraping technique, train model and deploy it for others to reach.\n",
        "\n",
        "Most importantly you will have to create the whole E2E Machine Learning plan: establish the problem, collect dataset, train model, evaluate it and deploy it. By completing this project, you will strengthen your data engineering skills and prove to yourself and others that you are capable of planning and executing data science projects."
      ]
    },
    {
      "cell_type": "markdown",
      "metadata": {
        "id": "0IqKPUa6zCvy"
      },
      "source": [
        "<div style=\"text-align: center;\">\n",
        "<img src=\"https://miro.medium.com/max/700/1*x7P7gqjo8k2_bj2rTQWAfg.jpeg\"/ width=\"300px\">\n",
        "</div>"
      ]
    },
    {
      "cell_type": "markdown",
      "metadata": {
        "id": "uZae0sqLzCvz"
      },
      "source": [
        "---"
      ]
    },
    {
      "cell_type": "markdown",
      "metadata": {
        "id": "2JqYhVjizCvz"
      },
      "source": [
        "## Requirements\n",
        "The whole capstone project requires you to execute full-featured E2E Machine Learning Project so let's see what actually do you have to complete:\n",
        "\n",
        "### Define problem you want to solve\n",
        "This is the part where you have to select a problem. Here are the topics that you can choose from: text classification, price prediction, item category classification. Through the second module of the course, you saw a few examples of datasets that could be used to solve these problems (eBay listings, Reddit posts, Twitter tweets). In this stage you have to:\n",
        "- Define the problem and create a short presentation\n",
        "- Explain what do you want to solve, and what is the potential value of your solution\n",
        "- Define the data source you will collect data from\n",
        "\n",
        "### Collecting data\n",
        "During this stage, you will need to create a Python package that is able to scrape a specific website. You saw many examples during the period of the second module, where functions that take few arguments (`keywords`, `number of samples`, etc.) and outputs pandas `DataFrame`s were created. Now you will need to transform this functionality into a Python package that is installable through pip.\n",
        "- Create Python package that is able to scrape specific webpage\n",
        "- The package should be installable through `pip`\n",
        "- The package should meed all expected Python package standards: clean code, tests, documentation.\n",
        "- Collect and process dataset using your created package\n",
        "\n",
        "### Training and saving the model\n",
        "During this step, you will need to use your collected data to train, test, and save a machine learning model. Do not spend much time on this step just make sure that:\n",
        "- Correct machine learning algorithm is selected\n",
        "- Model is successfully trained (remember first module of the course)\n",
        "- Model is saved for later deployment\n",
        "\n",
        "### Creating API for the trained model\n",
        "This is the step you have done at least a couple of times. You will need to create an API using Flask. While creating the application you will need to do these things:\n",
        "- Load trained model\n",
        "- Create inference pipeline\n",
        "- Create `POST` route to reach model and send its outputs as a response\n",
        "\n",
        "### Tracking model's predictions\n",
        "Now you will need to enable model's predictions tracking. During this step, you will need to connect your flask application to the PostgreSQL database hosted by Heroku and put the model's inputs and outputs into one table:\n",
        "- Create PostgreSQL database hosted by Heroku\n",
        "- Create table for predictions tracking. There should be columns for inputs and outputs of model\n",
        "- At every request of model insert required values to the database\n",
        "- Create new route in Flask application that returns 10 most recent requests and responses in JSON format\n",
        "\n",
        "### Deploying the application\n",
        "After completing all the steps required above, you will need to deploy your application to Heroku. You will need to follow the steps provided in the fourth lesson of this sprint.\n",
        "- Make sure all secrets and passwords are set as ENV variables in Heroku\n",
        "- Deploy application to Heroku\n",
        "- Ensure that your application is accessible (provide link to it)"
      ]
    },
    {
      "cell_type": "markdown",
      "metadata": {
        "id": "J1zSKaFazCv0"
      },
      "source": [
        "---"
      ]
    },
    {
      "cell_type": "markdown",
      "metadata": {
        "id": "_0Nt1Qc0iuxp"
      },
      "source": [
        "Problem: I like motorcycles, want to know more and know correct price"
      ]
    },
    {
      "cell_type": "markdown",
      "metadata": {
        "id": "fBD1dJGIzCv0"
      },
      "source": [
        "## Evaluation criteria\n",
        "- All requirements are met\n",
        "- The project is well thought out. Defined problem is clearly presented\n",
        "- Model actually works, is able to make predictions that make sense\n",
        "- Written code is clear and clean. All the PEP8 standards are met"
      ]
    },
    {
      "cell_type": "code",
      "metadata": {
        "colab": {
          "base_uri": "https://localhost:8080/"
        },
        "id": "gYnZ3Xi3zRVC",
        "outputId": "17d5ac52-4949-45c3-dd25-5acc849b2c93"
      },
      "source": [
        "!pip install beautifulsoup4"
      ],
      "execution_count": null,
      "outputs": [
        {
          "output_type": "stream",
          "text": [
            "Requirement already satisfied: beautifulsoup4 in /usr/local/lib/python3.6/dist-packages (4.6.3)\n"
          ],
          "name": "stdout"
        }
      ]
    },
    {
      "cell_type": "code",
      "metadata": {
        "id": "VHxnUybPzooJ"
      },
      "source": [
        "from bs4 import BeautifulSoup\n",
        "import requests\n",
        "import pandas as pd"
      ],
      "execution_count": 1,
      "outputs": []
    },
    {
      "cell_type": "code",
      "metadata": {
        "id": "O9spj2OXKLxc",
        "outputId": "cf47043b-c87c-4a9f-9b46-8e2675fdbde0",
        "colab": {
          "base_uri": "https://localhost:8080/"
        }
      },
      "source": [
        "headers = {\"User-Agent\": \"Mozilla/5.0\"}\n",
        "\n",
        "URL = \"https://www.autoscout24.nl/aanbod/honda-others-crf250r-ralley-benzine-rood-150226c1-6304-46fb-928e-3cd6da1db945?cldtidx=6&cldtsrc=listPage&searchId=b9380bcf\"\n",
        "page = requests.get(URL, headers=headers)\n",
        "\n",
        "soup = BeautifulSoup(page.content, \"html.parser\")\n",
        "km = soup.find(\"div\", class_=\"cldt-price\")\n",
        "mile = soup.find(\"span\", class_=\"cldt-stage-primary-keyfact\")\n",
        "kw = soup.find(\"span\", class_=\"sc-font-l cldt-stage-primary-keyfact\")\n",
        "print(km.text)\n",
        "print(mile.text)\n",
        "print(kw.text)"
      ],
      "execution_count": 29,
      "outputs": [
        {
          "output_type": "stream",
          "text": [
            "\n",
            "\n",
            "€ 5.390,-\n",
            "\n",
            "\n",
            "\n",
            "\n",
            "\n",
            "\n",
            "\n",
            "\n",
            "\n",
            "3.221 km\n",
            "3.221 km\n"
          ],
          "name": "stdout"
        }
      ]
    },
    {
      "cell_type": "code",
      "metadata": {
        "id": "sXFtkjwXE9hz",
        "outputId": "bd0303b6-c514-4b31-bec5-0661d6f6805f",
        "colab": {
          "base_uri": "https://localhost:8080/"
        }
      },
      "source": [
        "headers = {\"User-Agent\": \"Mozilla/5.0\"}\n",
        "\n",
        "URL = \"https://www.autoscout24.nl/aanbod/honda-others-crf250r-ralley-benzine-rood-150226c1-6304-46fb-928e-3cd6da1db945?cldtidx=6&cldtsrc=listPage&searchId=b9380bcf\"\n",
        "page = requests.get(URL, headers=headers)\n",
        "soup = BeautifulSoup(page.content, \"html.parser\")\n",
        "\n",
        "schoolType = soup.find(\"dt\", text=\"Versnellingen\")\n",
        "print(schoolType.find_next_sibling(\"dd\").text)"
      ],
      "execution_count": 53,
      "outputs": [
        {
          "output_type": "stream",
          "text": [
            "\n",
            "6\n",
            "\n"
          ],
          "name": "stdout"
        }
      ]
    },
    {
      "cell_type": "code",
      "metadata": {
        "colab": {
          "base_uri": "https://localhost:8080/"
        },
        "id": "rx71D6dbMBu_",
        "outputId": "1c50f834-6e5a-4a81-93fb-bf09be1c100c"
      },
      "source": [
        "headers = {\"User-Agent\": \"Mozilla/5.0\"}\n",
        "\n",
        "URL = \"https://www.autoscout24.nl/aanbod/honda-others-crf250r-ralley-benzine-rood-150226c1-6304-46fb-928e-3cd6da1db945?cldtidx=6&cldtsrc=listPage&searchId=b9380bcf\"\n",
        "page = requests.get(URL, headers=headers)\n",
        "\n",
        "km = []\n",
        "laa = []\n",
        "km.extend([value.text for value in soup.find_all('dt', {\"class\" : \"sc-ellipsis\"})])\n",
        "laa.extend([value.text for value in soup.find_all('dd')])\n",
        "# km.extend([value.text for value in soup.find_all(\"span\", class_=\"cldt-stage-primary-keyfact\")])\n",
        "print(km)\n",
        "print(laa)"
      ],
      "execution_count": 3,
      "outputs": [
        {
          "output_type": "stream",
          "text": [
            "['Categorie', 'Merk', 'Advertentienr.', 'Bouwjaar', 'Kleur', 'Carrosserietype', 'Stoelen', 'Transmissie', 'Versnellingen', 'Cilinderinhoud', 'Cilinders', 'Brandstof']\n",
            "['\\nGebruikt\\n', '\\n1\\n', '\\n02/2022\\n', '\\nHonda\\n', '\\n2201654\\n', '\\n2020\\n', '\\nRood\\n', '\\nExtreme Red\\n', '\\nEnduro\\n', '\\n2\\n', '\\n7432/AAV\\n', '\\nHandgeschakeld\\n', '\\n6\\n', '\\n250 cm³\\n', '\\n1\\n', '\\nBenzine\\n']\n"
          ],
          "name": "stdout"
        }
      ]
    },
    {
      "cell_type": "code",
      "metadata": {
        "colab": {
          "base_uri": "https://localhost:8080/"
        },
        "id": "gp4t9Ya1IYwS",
        "outputId": "9993fe43-a234-436a-9a00-cb69f59a6f40"
      },
      "source": [
        "headers = {\"User-Agent\": \"Mozilla/5.0\"}\n",
        "\n",
        "URL = \"https://www.autoscout24.nl/aanbod/honda-others-crf250r-ralley-benzine-rood-150226c1-6304-46fb-928e-3cd6da1db945?cldtidx=6&cldtsrc=listPage&searchId=b9380bcf\"\n",
        "page = requests.get(URL, headers=headers)\n",
        "\n",
        "km = []\n",
        "km.extend([value.text for value in soup.find_all(\"span\", class_=\"cldt-stage-primary-keyfact\")])\n",
        "print(km)\n"
      ],
      "execution_count": null,
      "outputs": [
        {
          "output_type": "stream",
          "text": [
            "['3.221 km', '02/2020', '18 kW', '24 PK', '3.221 km', '02/2020', '18 kW', '24 PK']\n"
          ],
          "name": "stdout"
        }
      ]
    },
    {
      "cell_type": "code",
      "metadata": {
        "colab": {
          "base_uri": "https://localhost:8080/"
        },
        "id": "Ev0EPYCgBphX",
        "outputId": "32170483-ce62-4b48-ff4d-0e0020495895"
      },
      "source": [
        "headers = {\"User-Agent\": \"Mozilla/5.0\"}\n",
        "\n",
        "URL = \"https://www.autoscout24.nl/lst-moto?sort=standard&desc=0&ustate=N%2CU&size=20&page=2\"\n",
        "page = requests.get(URL, headers=headers)\n",
        "\n",
        "soup = BeautifulSoup(page.content, \"html.parser\")\n",
        "km = []\n",
        "km.extend([value[\"href\"] for value in soup.find_all(attrs={\"data-item-name\":\"detail-page-link\"})])\n",
        "print(km)\n",
        "\n",
        "# for title in soup.find_all(attrs={\"data-type\": \"milage\"}):\n",
        "#     print(title)\n",
        "    "
      ],
      "execution_count": null,
      "outputs": [
        {
          "output_type": "stream",
          "text": [
            "['/aanbod/kawasaki-z-125-jetzt-vorbestellen-benzine-zwart-63347bfa-d1f2-418a-b95d-443048f7cacd', '/aanbod/kawasaki-ninja-125-jetzt-vorbestellen-benzine-e31d045e-77b8-4d09-9f8b-161b8491eeef', '/aanbod/kawasaki-ninja-400-ninja-400-abs-led-1-hand-top-zustand-insp-neu-benzine-groen-731db28b-7894-4fcc-8096-fef9dc5fc14f', '/aanbod/bmw-f-800-gs-0-benzine-grijs-a6326ce3-2040-480c-994f-11300b3b2199', '/aanbod/vespa-gts-300-super-hpe-versand-moeglich-benzine-b5e415d7-25e0-47f5-99e4-b3934a42ce00', '/aanbod/honda-others-crf250r-ralley-benzine-rood-150226c1-6304-46fb-928e-3cd6da1db945', '/aanbod/honda-others-cbf1000a-benzine-zilver-122cbc99-8417-43c9-8fb3-3c27bac56f91', '/aanbod/ktm-125-duke-versand-moeglich-benzine-zilver-45e1b1f4-e755-4c1f-a9c1-fab3fc413b34', '/aanbod/ktm-125-duke-mj21-jetzt-vorbestellen-benzine-zwart-914dcddc-99b0-483d-a3cc-82d9d149343c', '/aanbod/tgb-blade-550-efi-eco-lof-4x4-special-edition-inkl-koffer-benzine-blauw-295ab125-c90d-4bbb-9218-4e5232efcb30', '/aanbod/kawasaki-vn-1500-drifter-benzine-rood-0bce79f9-06fb-4736-a310-bc5a3e393b18', '/aanbod/ktm-950-adventure-koffer-sturzbuegel-benzine-zwart-534b896b-90a6-45f6-9e3f-00db213439ff', '/aanbod/ktm-690-duke-32-kw-drossel-akrapovic-auspuff-benzine-wit-6c177bbe-f131-4db1-a327-0839b07c84c5', '/aanbod/tgb-blade-550-efi-eco-lof-4x4-benzine-oranje-aa07ae36-3469-468b-b519-d736281b1bf6', '/aanbod/ktm-390-duke-2021-ktm-speer-benzine-wit-d4f4cdee-4385-45f7-8b3b-6a35f01980f1', '/aanbod/tgb-blade-550-efi-4x4-lof-eps-eco-limitert-333-stueck-benzine-blauw-81875aa8-5b99-46e8-b878-910622858793', '/aanbod/honda-nc-750-nc-750-x-led-abs-1000km-insp-inkl-wenig-km-overig-zwart-74c99758-2e6f-4e06-a114-e24a3a0c4efb', '/aanbod/moto-guzzi-stelvio-1200-sitzheizung-scheckheft-benzine-rood-9203853c-c0d1-4408-aa47-dd9815892dfa', '/aanbod/kawasaki-w-650-1-hand-benzine-zwart-8f0d5348-c3b0-4132-ba56-49c2a68275d3', '/aanbod/kawasaki-vulcan-900-custom-falcon-auspuffanlage-benzine-groen-98bcebcd-d260-4099-b543-f80a7d4792a0']\n"
          ],
          "name": "stdout"
        }
      ]
    },
    {
      "cell_type": "code",
      "metadata": {
        "id": "wKbrpELL_yxf"
      },
      "source": [
        "def collect_urls(pages_number: int) -> list:\n",
        "    \"\"\" Scrape url for number of pages and a keyword\n",
        "    and returns a pandas dataframe\"\"\"\n",
        "    km = []\n",
        "    for page_no in range(1, pages_number + 1):\n",
        "        url = f\"https://www.autoscout24.nl/lst-moto?sort=standard&desc=0&ustate=N%2CU&size=20&page={page_no}\"\n",
        "        print(page_no)\n",
        "\n",
        "        headers = {\"User-Agent\": \"Mozilla/5.0\"}\n",
        "        page = requests.get(url, headers=headers)\n",
        "        soup = BeautifulSoup(page.content, \"html.parser\")\n",
        "\n",
        "        km.extend([value[\"href\"] for value in soup.find_all(attrs={\"data-item-name\": \"detail-page-link\"})])\n",
        "\n",
        "    return km\n",
        "\n",
        "\n",
        "\n",
        "\n",
        "def collect_info(search_list: list) -> pd.DataFrame:\n",
        "    \"\"\" Scrape url for number of pages and a keyword\n",
        "    and returns a pandas dataframe\"\"\"\n",
        "    brand, price, km, kw, registration, category, owners, cilinders, cilinder_content, seats, fuel, gears = ([] for i in range(12))\n",
        "\n",
        "    for urls in search_list:\n",
        "        url = f\"https://www.autoscout24.nl{urls}\"\n",
        "\n",
        "        headers = {\"User-Agent\": \"Mozilla/5.0\"}\n",
        "        page = requests.get(url, headers=headers)\n",
        "        soup = BeautifulSoup(page.content, \"html.parser\")\n",
        "        # registration.extend([value.text for value in soup.find_all(attrs={\"data-type\": \"first-registration\"})])\n",
        "\n",
        "        # Price\n",
        "        try:\n",
        "          path = soup.find(\"div\", class_=\"cldt-price\")\n",
        "          anchor = path.find(\"h2\")\n",
        "          price.extend([anchor.text])\n",
        "        except:\n",
        "          price.extend([None])\n",
        "\n",
        "        # KM\n",
        "        try:\n",
        "          path = soup.find(\"span\", class_=\"cldt-stage-primary-keyfact\")\n",
        "          km.extend([path.text])\n",
        "        except:\n",
        "          km.extend([None])\n",
        "\n",
        "        # KW\n",
        "        try:\n",
        "          path = soup.find_all(\"span\", class_=\"cldt-stage-primary-keyfact\")\n",
        "          kw.extend([path[2].text])\n",
        "        except:\n",
        "          kw.extend([None])\n",
        "\n",
        "        # Registration\n",
        "        try:\n",
        "          path = soup.find(\"dt\", text=\"Bouwjaar\")\n",
        "          anchor = path.find_next_sibling(\"dd\").text\n",
        "          registration.extend([anchor])\n",
        "        except:\n",
        "          registration.extend([None])\n",
        "\n",
        "        # Brand\n",
        "        try:\n",
        "          path = soup.find(\"dt\", text=\"Merk\")\n",
        "          anchor = path.find_next_sibling(\"dd\").text\n",
        "          brand.extend([anchor])\n",
        "        except:\n",
        "          brand.extend([None])\n",
        "\n",
        "         # Category\n",
        "        try:\n",
        "          path = soup.find(\"dt\", text=\"Categorie\")\n",
        "          anchor = path.find_next_sibling(\"dd\").text\n",
        "          category.extend([anchor])\n",
        "        except:\n",
        "          category.extend([None])\n",
        "\n",
        "        # Owners\n",
        "        try:\n",
        "          path = soup.find(\"dt\", text=\"Vorige eigenaren\")\n",
        "          anchor = path.find_next_sibling(\"dd\").text\n",
        "          owners.extend([anchor])\n",
        "        except:\n",
        "          owners.extend([None])\n",
        "\n",
        "        # Gears\n",
        "        try:\n",
        "          path = soup.find(\"dt\", text=\"Versnellingen\")\n",
        "          anchor = path.find_next_sibling(\"dd\").text\n",
        "          gears.extend([anchor])\n",
        "        except:\n",
        "          gears.extend([None])\n",
        "\n",
        "         # Fuel\n",
        "        try:\n",
        "          path = soup.find(\"dt\", text=\"Brandstof\")\n",
        "          anchor = path.find_next_sibling(\"dd\").text\n",
        "          fuel.extend([anchor])\n",
        "        except:\n",
        "          fuel.extend([None])\n",
        "\n",
        "        # Cilinders\n",
        "        try:\n",
        "          path = soup.find(\"dt\", text=\"Cilinders\")\n",
        "          anchor = path.find_next_sibling(\"dd\").text\n",
        "          cilinders.extend([anchor])\n",
        "        except:\n",
        "          cilinders.extend([None])\n",
        "\n",
        "        # Cilinder_content\n",
        "        try:\n",
        "          path = soup.find(\"dt\", text=\"Cilinderinhoud\")\n",
        "          anchor = path.find_next_sibling(\"dd\").text\n",
        "          cilinder_content.extend([anchor])\n",
        "        except:\n",
        "          cilinder_content.extend([None])\n",
        "\n",
        "        # Seats\n",
        "        try:\n",
        "          path = soup.find(\"dt\", text=\"Stoelen\")\n",
        "          anchor = path.find_next_sibling(\"dd\").text\n",
        "          seats.extend([anchor])\n",
        "        except:\n",
        "          seats.extend([None])\n",
        "\n",
        "    dict_ = {\n",
        "        \"brand\": brand,\n",
        "        \"price\": price,\n",
        "        \"milage\": km,\n",
        "        \"power\": kw,\n",
        "        \"category\": category,\n",
        "        \"first_registration\": registration,\n",
        "        \"gears\": gears,\n",
        "        \"previous_owners\": owners,\n",
        "        \"fuel\": fuel,\n",
        "        \"cilinders\": cilinders,\n",
        "        \"cilinder_content\": cilinder_content,\n",
        "        \"seats\": seats\n",
        "    }\n",
        "\n",
        "    df = pd.DataFrame.from_dict(dict_, orient='index')\n",
        "    df = df.transpose()\n",
        "\n",
        "    return df\n"
      ],
      "execution_count": 123,
      "outputs": []
    },
    {
      "cell_type": "code",
      "metadata": {
        "id": "gs2YCKKiLmcw",
        "outputId": "13a82cbf-5e2c-4719-b77b-910d40335ca4",
        "colab": {
          "base_uri": "https://localhost:8080/"
        }
      },
      "source": [
        "list_try = collect_urls(1)"
      ],
      "execution_count": 63,
      "outputs": [
        {
          "output_type": "stream",
          "text": [
            "1\n"
          ],
          "name": "stdout"
        }
      ]
    },
    {
      "cell_type": "code",
      "metadata": {
        "id": "r9CQ4i75OGV_"
      },
      "source": [
        "df = collect_info(list_try)"
      ],
      "execution_count": 166,
      "outputs": []
    },
    {
      "cell_type": "code",
      "metadata": {
        "id": "Ah-BiOTFihwE",
        "outputId": "c5e21fb8-90a8-44d0-8a0c-2849ab44046a",
        "colab": {
          "base_uri": "https://localhost:8080/",
          "height": 669
        }
      },
      "source": [
        "df"
      ],
      "execution_count": 139,
      "outputs": [
        {
          "output_type": "execute_result",
          "data": {
            "text/html": [
              "<div>\n",
              "<style scoped>\n",
              "    .dataframe tbody tr th:only-of-type {\n",
              "        vertical-align: middle;\n",
              "    }\n",
              "\n",
              "    .dataframe tbody tr th {\n",
              "        vertical-align: top;\n",
              "    }\n",
              "\n",
              "    .dataframe thead th {\n",
              "        text-align: right;\n",
              "    }\n",
              "</style>\n",
              "<table border=\"1\" class=\"dataframe\">\n",
              "  <thead>\n",
              "    <tr style=\"text-align: right;\">\n",
              "      <th></th>\n",
              "      <th>brand</th>\n",
              "      <th>price</th>\n",
              "      <th>milage</th>\n",
              "      <th>power</th>\n",
              "      <th>category</th>\n",
              "      <th>first_registration</th>\n",
              "      <th>gears</th>\n",
              "      <th>previous_owners</th>\n",
              "      <th>fuel</th>\n",
              "      <th>cilinders</th>\n",
              "      <th>cilinder_content</th>\n",
              "      <th>seats</th>\n",
              "    </tr>\n",
              "  </thead>\n",
              "  <tbody>\n",
              "    <tr>\n",
              "      <th>0</th>\n",
              "      <td>\\nPGO\\n</td>\n",
              "      <td>\\n€ 690,-\\n</td>\n",
              "      <td>4.000 km</td>\n",
              "      <td>8</td>\n",
              "      <td>\\nGebruikt\\n</td>\n",
              "      <td>\\n2004\\n</td>\n",
              "      <td>None</td>\n",
              "      <td>None</td>\n",
              "      <td>None</td>\n",
              "      <td>None</td>\n",
              "      <td>\\n150 cm³\\n</td>\n",
              "      <td>\\n2\\n</td>\n",
              "    </tr>\n",
              "    <tr>\n",
              "      <th>1</th>\n",
              "      <td>None</td>\n",
              "      <td>\\n€ 799,-\\n</td>\n",
              "      <td>3.400 km</td>\n",
              "      <td>8</td>\n",
              "      <td>\\nGebruikt\\n</td>\n",
              "      <td>\\n2008\\n</td>\n",
              "      <td>None</td>\n",
              "      <td>\\n3\\n</td>\n",
              "      <td>None</td>\n",
              "      <td>None</td>\n",
              "      <td>\\n262 cm³\\n</td>\n",
              "      <td>\\n2\\n</td>\n",
              "    </tr>\n",
              "    <tr>\n",
              "      <th>2</th>\n",
              "      <td>\\nSuzuki\\n</td>\n",
              "      <td>\\n€ 950,-\\n</td>\n",
              "      <td>75.331 km</td>\n",
              "      <td>45</td>\n",
              "      <td>\\nGebruikt\\n</td>\n",
              "      <td>\\n1992\\n</td>\n",
              "      <td>None</td>\n",
              "      <td>None</td>\n",
              "      <td>\\nBenzine\\n</td>\n",
              "      <td>None</td>\n",
              "      <td>\\n805 cm³\\n</td>\n",
              "      <td>None</td>\n",
              "    </tr>\n",
              "    <tr>\n",
              "      <th>3</th>\n",
              "      <td>\\nSuzuki\\n</td>\n",
              "      <td>\\n€ 1.450,-\\n</td>\n",
              "      <td>30.461 km</td>\n",
              "      <td>72</td>\n",
              "      <td>\\nGebruikt\\n</td>\n",
              "      <td>\\n1997\\n</td>\n",
              "      <td>None</td>\n",
              "      <td>\\n2\\n</td>\n",
              "      <td>\\nBenzine\\n</td>\n",
              "      <td>None</td>\n",
              "      <td>\\n600 cm³\\n</td>\n",
              "      <td>None</td>\n",
              "    </tr>\n",
              "    <tr>\n",
              "      <th>4</th>\n",
              "      <td>\\nDaelim\\n</td>\n",
              "      <td>\\n€ 1.999,-\\n</td>\n",
              "      <td>8.500 km</td>\n",
              "      <td>10</td>\n",
              "      <td>\\nGebruikt\\n</td>\n",
              "      <td>\\n1998\\n</td>\n",
              "      <td>None</td>\n",
              "      <td>\\n2\\n</td>\n",
              "      <td>\\nBenzine\\n</td>\n",
              "      <td>None</td>\n",
              "      <td>\\n124 cm³\\n</td>\n",
              "      <td>None</td>\n",
              "    </tr>\n",
              "    <tr>\n",
              "      <th>5</th>\n",
              "      <td>\\nHonda\\n</td>\n",
              "      <td>\\n€ 2.550,-\\n</td>\n",
              "      <td>760 km</td>\n",
              "      <td>7</td>\n",
              "      <td>\\nGebruikt\\n</td>\n",
              "      <td>\\n2020\\n</td>\n",
              "      <td>\\n5\\n</td>\n",
              "      <td>\\n1\\n</td>\n",
              "      <td>\\nSuper 95\\n</td>\n",
              "      <td>\\n1\\n</td>\n",
              "      <td>\\n125 cm³\\n</td>\n",
              "      <td>\\n2\\n</td>\n",
              "    </tr>\n",
              "    <tr>\n",
              "      <th>6</th>\n",
              "      <td>\\nHonda\\n</td>\n",
              "      <td>\\n€ 2.590,-\\n</td>\n",
              "      <td>1 km</td>\n",
              "      <td>5</td>\n",
              "      <td>\\nNieuw\\n</td>\n",
              "      <td>None</td>\n",
              "      <td>\\n4\\n</td>\n",
              "      <td>None</td>\n",
              "      <td>\\nSuper 95\\n</td>\n",
              "      <td>\\n1\\n</td>\n",
              "      <td>\\n110 cm³\\n</td>\n",
              "      <td>None</td>\n",
              "    </tr>\n",
              "    <tr>\n",
              "      <th>7</th>\n",
              "      <td>\\nNiu\\n</td>\n",
              "      <td>\\n€ 2.899,-\\n</td>\n",
              "      <td>0 km</td>\n",
              "      <td>3</td>\n",
              "      <td>\\nNieuw\\n</td>\n",
              "      <td>None</td>\n",
              "      <td>None</td>\n",
              "      <td>None</td>\n",
              "      <td>\\nElektrisch\\n</td>\n",
              "      <td>None</td>\n",
              "      <td>None</td>\n",
              "      <td>\\n2\\n</td>\n",
              "    </tr>\n",
              "    <tr>\n",
              "      <th>8</th>\n",
              "      <td>\\nYamaha\\n</td>\n",
              "      <td>\\n€ 2.900,-\\n</td>\n",
              "      <td>42.932 km</td>\n",
              "      <td>99</td>\n",
              "      <td>\\nGebruikt\\n</td>\n",
              "      <td>\\n1991\\n</td>\n",
              "      <td>None</td>\n",
              "      <td>None</td>\n",
              "      <td>\\nBenzine\\n</td>\n",
              "      <td>None</td>\n",
              "      <td>\\n1.000 cm³\\n</td>\n",
              "      <td>None</td>\n",
              "    </tr>\n",
              "    <tr>\n",
              "      <th>9</th>\n",
              "      <td>\\nHonda\\n</td>\n",
              "      <td>\\n€ 2.950,-\\n</td>\n",
              "      <td>40.203 km</td>\n",
              "      <td>78</td>\n",
              "      <td>\\nGebruikt\\n</td>\n",
              "      <td>\\n2002\\n</td>\n",
              "      <td>None</td>\n",
              "      <td>None</td>\n",
              "      <td>\\nBenzine\\n</td>\n",
              "      <td>None</td>\n",
              "      <td>\\n996 cm³\\n</td>\n",
              "      <td>None</td>\n",
              "    </tr>\n",
              "    <tr>\n",
              "      <th>10</th>\n",
              "      <td>\\nHonda\\n</td>\n",
              "      <td>\\n€ 3.190,-\\n</td>\n",
              "      <td>6.500 km</td>\n",
              "      <td>7</td>\n",
              "      <td>\\nGebruikt\\n</td>\n",
              "      <td>\\n2018\\n</td>\n",
              "      <td>None</td>\n",
              "      <td>\\n1\\n</td>\n",
              "      <td>\\nOverig\\n</td>\n",
              "      <td>\\n1\\n</td>\n",
              "      <td>\\n125 cm³\\n</td>\n",
              "      <td>None</td>\n",
              "    </tr>\n",
              "    <tr>\n",
              "      <th>11</th>\n",
              "      <td>\\nPiaggio\\n</td>\n",
              "      <td>\\n€ 3.389,-\\n</td>\n",
              "      <td>6.959 km</td>\n",
              "      <td>9</td>\n",
              "      <td>\\nGebruikt\\n</td>\n",
              "      <td>\\n2020\\n</td>\n",
              "      <td>None</td>\n",
              "      <td>None</td>\n",
              "      <td>\\nBenzine\\n</td>\n",
              "      <td>None</td>\n",
              "      <td>\\n125 cm³\\n</td>\n",
              "      <td>None</td>\n",
              "    </tr>\n",
              "    <tr>\n",
              "      <th>12</th>\n",
              "      <td>\\nHonda\\n</td>\n",
              "      <td>\\n€ 3.390,-\\n</td>\n",
              "      <td>360 km</td>\n",
              "      <td>9</td>\n",
              "      <td>\\nGebruikt\\n</td>\n",
              "      <td>\\n2019\\n</td>\n",
              "      <td>None</td>\n",
              "      <td>\\n1\\n</td>\n",
              "      <td>\\nBenzine\\n</td>\n",
              "      <td>\\n1\\n</td>\n",
              "      <td>\\n125 cm³\\n</td>\n",
              "      <td>\\n2\\n</td>\n",
              "    </tr>\n",
              "    <tr>\n",
              "      <th>13</th>\n",
              "      <td>\\nAprilia\\n</td>\n",
              "      <td>\\n€ 3.590,-\\n</td>\n",
              "      <td>19.799 km</td>\n",
              "      <td>92</td>\n",
              "      <td>\\nGebruikt\\n</td>\n",
              "      <td>\\n2006\\n</td>\n",
              "      <td>\\n6\\n</td>\n",
              "      <td>\\n4\\n</td>\n",
              "      <td>\\nBenzine\\n</td>\n",
              "      <td>\\n3\\n</td>\n",
              "      <td>\\n998 cm³\\n</td>\n",
              "      <td>\\n2\\n</td>\n",
              "    </tr>\n",
              "    <tr>\n",
              "      <th>14</th>\n",
              "      <td>\\nKawasaki\\n</td>\n",
              "      <td>\\n€ 3.950,-\\n</td>\n",
              "      <td>25.000 km</td>\n",
              "      <td>25</td>\n",
              "      <td>\\nGebruikt\\n</td>\n",
              "      <td>\\n1996\\n</td>\n",
              "      <td>None</td>\n",
              "      <td>None</td>\n",
              "      <td>\\nBenzine\\n</td>\n",
              "      <td>\\n2\\n</td>\n",
              "      <td>\\n805 cm³\\n</td>\n",
              "      <td>None</td>\n",
              "    </tr>\n",
              "    <tr>\n",
              "      <th>15</th>\n",
              "      <td>\\nHonda\\n</td>\n",
              "      <td>\\n€ 3.970,-\\n</td>\n",
              "      <td>- km</td>\n",
              "      <td>7</td>\n",
              "      <td>\\nNieuw\\n</td>\n",
              "      <td>None</td>\n",
              "      <td>\\n4\\n</td>\n",
              "      <td>None</td>\n",
              "      <td>\\nBenzine\\n</td>\n",
              "      <td>\\n1\\n</td>\n",
              "      <td>\\n125 cm³\\n</td>\n",
              "      <td>\\n2\\n</td>\n",
              "    </tr>\n",
              "    <tr>\n",
              "      <th>16</th>\n",
              "      <td>\\nSuzuki\\n</td>\n",
              "      <td>\\n€ 3.990,-\\n</td>\n",
              "      <td>17.189 km</td>\n",
              "      <td>49</td>\n",
              "      <td>\\nGebruikt\\n</td>\n",
              "      <td>\\n2007\\n</td>\n",
              "      <td>\\n6\\n</td>\n",
              "      <td>\\n2\\n</td>\n",
              "      <td>\\nBenzine\\n</td>\n",
              "      <td>None</td>\n",
              "      <td>\\n645 cm³\\n</td>\n",
              "      <td>\\n2\\n</td>\n",
              "    </tr>\n",
              "    <tr>\n",
              "      <th>17</th>\n",
              "      <td>\\nHonda\\n</td>\n",
              "      <td>\\n€ 4.320,-\\n</td>\n",
              "      <td>- km</td>\n",
              "      <td>9</td>\n",
              "      <td>\\nNieuw\\n</td>\n",
              "      <td>None</td>\n",
              "      <td>\\n4\\n</td>\n",
              "      <td>None</td>\n",
              "      <td>\\nBenzine\\n</td>\n",
              "      <td>\\n1\\n</td>\n",
              "      <td>\\n125 cm³\\n</td>\n",
              "      <td>\\n1\\n</td>\n",
              "    </tr>\n",
              "    <tr>\n",
              "      <th>18</th>\n",
              "      <td>\\nKawasaki\\n</td>\n",
              "      <td>\\n€ 4.395,-\\n</td>\n",
              "      <td>- km</td>\n",
              "      <td>11</td>\n",
              "      <td>\\nNieuw\\n</td>\n",
              "      <td>\\n2021\\n</td>\n",
              "      <td>None</td>\n",
              "      <td>None</td>\n",
              "      <td>\\nBenzine\\n</td>\n",
              "      <td>None</td>\n",
              "      <td>\\n125 cm³\\n</td>\n",
              "      <td>None</td>\n",
              "    </tr>\n",
              "    <tr>\n",
              "      <th>19</th>\n",
              "      <td>\\nKawasaki\\n</td>\n",
              "      <td>\\n€ 4.695,-\\n</td>\n",
              "      <td>- km</td>\n",
              "      <td>11</td>\n",
              "      <td>\\nNieuw\\n</td>\n",
              "      <td>\\n2021\\n</td>\n",
              "      <td>None</td>\n",
              "      <td>None</td>\n",
              "      <td>\\nBenzine\\n</td>\n",
              "      <td>None</td>\n",
              "      <td>\\n125 cm³\\n</td>\n",
              "      <td>None</td>\n",
              "    </tr>\n",
              "  </tbody>\n",
              "</table>\n",
              "</div>"
            ],
            "text/plain": [
              "           brand          price     milage  ... cilinders cilinder_content  seats\n",
              "0        \\nPGO\\n    \\n€ 690,-\\n   4.000 km  ...      None      \\n150 cm³\\n  \\n2\\n\n",
              "1           None    \\n€ 799,-\\n   3.400 km  ...      None      \\n262 cm³\\n  \\n2\\n\n",
              "2     \\nSuzuki\\n    \\n€ 950,-\\n  75.331 km  ...      None      \\n805 cm³\\n   None\n",
              "3     \\nSuzuki\\n  \\n€ 1.450,-\\n  30.461 km  ...      None      \\n600 cm³\\n   None\n",
              "4     \\nDaelim\\n  \\n€ 1.999,-\\n   8.500 km  ...      None      \\n124 cm³\\n   None\n",
              "5      \\nHonda\\n  \\n€ 2.550,-\\n     760 km  ...     \\n1\\n      \\n125 cm³\\n  \\n2\\n\n",
              "6      \\nHonda\\n  \\n€ 2.590,-\\n       1 km  ...     \\n1\\n      \\n110 cm³\\n   None\n",
              "7        \\nNiu\\n  \\n€ 2.899,-\\n       0 km  ...      None             None  \\n2\\n\n",
              "8     \\nYamaha\\n  \\n€ 2.900,-\\n  42.932 km  ...      None    \\n1.000 cm³\\n   None\n",
              "9      \\nHonda\\n  \\n€ 2.950,-\\n  40.203 km  ...      None      \\n996 cm³\\n   None\n",
              "10     \\nHonda\\n  \\n€ 3.190,-\\n   6.500 km  ...     \\n1\\n      \\n125 cm³\\n   None\n",
              "11   \\nPiaggio\\n  \\n€ 3.389,-\\n   6.959 km  ...      None      \\n125 cm³\\n   None\n",
              "12     \\nHonda\\n  \\n€ 3.390,-\\n     360 km  ...     \\n1\\n      \\n125 cm³\\n  \\n2\\n\n",
              "13   \\nAprilia\\n  \\n€ 3.590,-\\n  19.799 km  ...     \\n3\\n      \\n998 cm³\\n  \\n2\\n\n",
              "14  \\nKawasaki\\n  \\n€ 3.950,-\\n  25.000 km  ...     \\n2\\n      \\n805 cm³\\n   None\n",
              "15     \\nHonda\\n  \\n€ 3.970,-\\n       - km  ...     \\n1\\n      \\n125 cm³\\n  \\n2\\n\n",
              "16    \\nSuzuki\\n  \\n€ 3.990,-\\n  17.189 km  ...      None      \\n645 cm³\\n  \\n2\\n\n",
              "17     \\nHonda\\n  \\n€ 4.320,-\\n       - km  ...     \\n1\\n      \\n125 cm³\\n  \\n1\\n\n",
              "18  \\nKawasaki\\n  \\n€ 4.395,-\\n       - km  ...      None      \\n125 cm³\\n   None\n",
              "19  \\nKawasaki\\n  \\n€ 4.695,-\\n       - km  ...      None      \\n125 cm³\\n   None\n",
              "\n",
              "[20 rows x 12 columns]"
            ]
          },
          "metadata": {
            "tags": []
          },
          "execution_count": 139
        }
      ]
    },
    {
      "cell_type": "code",
      "metadata": {
        "colab": {
          "base_uri": "https://localhost:8080/"
        },
        "id": "x2yFD_ea_KMJ",
        "outputId": "b90ccb1f-2a41-4022-9473-482468e40b92"
      },
      "source": [
        "df.shape"
      ],
      "execution_count": 167,
      "outputs": [
        {
          "output_type": "execute_result",
          "data": {
            "text/plain": [
              "(20, 12)"
            ]
          },
          "metadata": {
            "tags": []
          },
          "execution_count": 167
        }
      ]
    },
    {
      "cell_type": "code",
      "metadata": {
        "colab": {
          "base_uri": "https://localhost:8080/"
        },
        "id": "YCS_2BtB8HvS",
        "outputId": "959f0e28-1377-45e6-9a8d-59be0d9761f8"
      },
      "source": [
        "df.info()"
      ],
      "execution_count": 168,
      "outputs": [
        {
          "output_type": "stream",
          "text": [
            "<class 'pandas.core.frame.DataFrame'>\n",
            "RangeIndex: 20 entries, 0 to 19\n",
            "Data columns (total 12 columns):\n",
            " #   Column              Non-Null Count  Dtype \n",
            "---  ------              --------------  ----- \n",
            " 0   brand               19 non-null     object\n",
            " 1   price               20 non-null     object\n",
            " 2   milage              20 non-null     object\n",
            " 3   power               20 non-null     object\n",
            " 4   category            20 non-null     object\n",
            " 5   first_registration  16 non-null     object\n",
            " 6   gears               6 non-null      object\n",
            " 7   previous_owners     8 non-null      object\n",
            " 8   fuel                18 non-null     object\n",
            " 9   cilinders           8 non-null      object\n",
            " 10  cilinder_content    19 non-null     object\n",
            " 11  seats               9 non-null      object\n",
            "dtypes: object(12)\n",
            "memory usage: 2.0+ KB\n"
          ],
          "name": "stdout"
        }
      ]
    },
    {
      "cell_type": "code",
      "metadata": {
        "colab": {
          "base_uri": "https://localhost:8080/",
          "height": 204
        },
        "id": "srS6ukzL-bXF",
        "outputId": "8e0c081b-d9c2-4acb-822f-b22838f95824"
      },
      "source": [
        "df.price = df.price.str.replace('.', '')\n",
        "df.price = df.price.str.extract('(\\d+)')\n",
        "df.head()"
      ],
      "execution_count": 156,
      "outputs": [
        {
          "output_type": "execute_result",
          "data": {
            "text/html": [
              "<div>\n",
              "<style scoped>\n",
              "    .dataframe tbody tr th:only-of-type {\n",
              "        vertical-align: middle;\n",
              "    }\n",
              "\n",
              "    .dataframe tbody tr th {\n",
              "        vertical-align: top;\n",
              "    }\n",
              "\n",
              "    .dataframe thead th {\n",
              "        text-align: right;\n",
              "    }\n",
              "</style>\n",
              "<table border=\"1\" class=\"dataframe\">\n",
              "  <thead>\n",
              "    <tr style=\"text-align: right;\">\n",
              "      <th></th>\n",
              "      <th>brand</th>\n",
              "      <th>price</th>\n",
              "      <th>milage</th>\n",
              "      <th>power</th>\n",
              "      <th>category</th>\n",
              "      <th>first_registration</th>\n",
              "      <th>gears</th>\n",
              "      <th>previous_owners</th>\n",
              "      <th>fuel</th>\n",
              "      <th>cilinders</th>\n",
              "      <th>cilinder_content</th>\n",
              "      <th>seats</th>\n",
              "    </tr>\n",
              "  </thead>\n",
              "  <tbody>\n",
              "    <tr>\n",
              "      <th>0</th>\n",
              "      <td>\\nPGO\\n</td>\n",
              "      <td>690</td>\n",
              "      <td>4.000 km</td>\n",
              "      <td>8</td>\n",
              "      <td>\\nGebruikt\\n</td>\n",
              "      <td>\\n2004\\n</td>\n",
              "      <td>None</td>\n",
              "      <td>None</td>\n",
              "      <td>None</td>\n",
              "      <td>None</td>\n",
              "      <td>\\n150 cm³\\n</td>\n",
              "      <td>\\n2\\n</td>\n",
              "    </tr>\n",
              "    <tr>\n",
              "      <th>1</th>\n",
              "      <td>None</td>\n",
              "      <td>799</td>\n",
              "      <td>3.400 km</td>\n",
              "      <td>8</td>\n",
              "      <td>\\nGebruikt\\n</td>\n",
              "      <td>\\n2008\\n</td>\n",
              "      <td>None</td>\n",
              "      <td>\\n3\\n</td>\n",
              "      <td>None</td>\n",
              "      <td>None</td>\n",
              "      <td>\\n262 cm³\\n</td>\n",
              "      <td>\\n2\\n</td>\n",
              "    </tr>\n",
              "    <tr>\n",
              "      <th>2</th>\n",
              "      <td>\\nSuzuki\\n</td>\n",
              "      <td>950</td>\n",
              "      <td>75.331 km</td>\n",
              "      <td>45</td>\n",
              "      <td>\\nGebruikt\\n</td>\n",
              "      <td>\\n1992\\n</td>\n",
              "      <td>None</td>\n",
              "      <td>None</td>\n",
              "      <td>\\nBenzine\\n</td>\n",
              "      <td>None</td>\n",
              "      <td>\\n805 cm³\\n</td>\n",
              "      <td>None</td>\n",
              "    </tr>\n",
              "    <tr>\n",
              "      <th>3</th>\n",
              "      <td>\\nSuzuki\\n</td>\n",
              "      <td>1450</td>\n",
              "      <td>30.461 km</td>\n",
              "      <td>72</td>\n",
              "      <td>\\nGebruikt\\n</td>\n",
              "      <td>\\n1997\\n</td>\n",
              "      <td>None</td>\n",
              "      <td>\\n2\\n</td>\n",
              "      <td>\\nBenzine\\n</td>\n",
              "      <td>None</td>\n",
              "      <td>\\n600 cm³\\n</td>\n",
              "      <td>None</td>\n",
              "    </tr>\n",
              "    <tr>\n",
              "      <th>4</th>\n",
              "      <td>\\nDaelim\\n</td>\n",
              "      <td>1999</td>\n",
              "      <td>8.500 km</td>\n",
              "      <td>10</td>\n",
              "      <td>\\nGebruikt\\n</td>\n",
              "      <td>\\n1998\\n</td>\n",
              "      <td>None</td>\n",
              "      <td>\\n2\\n</td>\n",
              "      <td>\\nBenzine\\n</td>\n",
              "      <td>None</td>\n",
              "      <td>\\n124 cm³\\n</td>\n",
              "      <td>None</td>\n",
              "    </tr>\n",
              "  </tbody>\n",
              "</table>\n",
              "</div>"
            ],
            "text/plain": [
              "        brand price     milage  ... cilinders cilinder_content  seats\n",
              "0     \\nPGO\\n   690   4.000 km  ...      None      \\n150 cm³\\n  \\n2\\n\n",
              "1        None   799   3.400 km  ...      None      \\n262 cm³\\n  \\n2\\n\n",
              "2  \\nSuzuki\\n   950  75.331 km  ...      None      \\n805 cm³\\n   None\n",
              "3  \\nSuzuki\\n  1450  30.461 km  ...      None      \\n600 cm³\\n   None\n",
              "4  \\nDaelim\\n  1999   8.500 km  ...      None      \\n124 cm³\\n   None\n",
              "\n",
              "[5 rows x 12 columns]"
            ]
          },
          "metadata": {
            "tags": []
          },
          "execution_count": 156
        }
      ]
    },
    {
      "cell_type": "code",
      "metadata": {
        "id": "zCU9oGLczcEB",
        "outputId": "9abb0ffb-0cc2-49f0-d100-6e729b142f54",
        "colab": {
          "base_uri": "https://localhost:8080/"
        }
      },
      "source": [
        "df.columns"
      ],
      "execution_count": 161,
      "outputs": [
        {
          "output_type": "execute_result",
          "data": {
            "text/plain": [
              "Index(['brand', 'price', 'milage', 'power', 'category', 'first_registration',\n",
              "       'gears', 'previous_owners', 'fuel', 'cilinders', 'cilinder_content',\n",
              "       'seats'],\n",
              "      dtype='object')"
            ]
          },
          "metadata": {
            "tags": []
          },
          "execution_count": 161
        }
      ]
    },
    {
      "cell_type": "code",
      "metadata": {
        "id": "9RU00gxrw6LE",
        "outputId": "8a7691c1-24ba-4274-8c9b-62402eb7d6f0",
        "colab": {
          "base_uri": "https://localhost:8080/",
          "height": 368
        }
      },
      "source": [
        "for column in df.columns:\n",
        "  print(column)\n",
        "  df[column] = df[column].str.replace({'.':'', ',-':'', '\\n':''})\n",
        "  # df[column] = df[column].str.extract('(\\d+)')\n",
        "\n",
        "\n",
        "df.head()"
      ],
      "execution_count": 171,
      "outputs": [
        {
          "output_type": "stream",
          "text": [
            "brand\n"
          ],
          "name": "stdout"
        },
        {
          "output_type": "error",
          "ename": "TypeError",
          "evalue": "ignored",
          "traceback": [
            "\u001b[0;31m---------------------------------------------------------------------------\u001b[0m",
            "\u001b[0;31mTypeError\u001b[0m                                 Traceback (most recent call last)",
            "\u001b[0;32m<ipython-input-171-25e535c02c71>\u001b[0m in \u001b[0;36m<module>\u001b[0;34m()\u001b[0m\n\u001b[1;32m      1\u001b[0m \u001b[0;32mfor\u001b[0m \u001b[0mcolumn\u001b[0m \u001b[0;32min\u001b[0m \u001b[0mdf\u001b[0m\u001b[0;34m.\u001b[0m\u001b[0mcolumns\u001b[0m\u001b[0;34m:\u001b[0m\u001b[0;34m\u001b[0m\u001b[0;34m\u001b[0m\u001b[0m\n\u001b[1;32m      2\u001b[0m   \u001b[0mprint\u001b[0m\u001b[0;34m(\u001b[0m\u001b[0mcolumn\u001b[0m\u001b[0;34m)\u001b[0m\u001b[0;34m\u001b[0m\u001b[0;34m\u001b[0m\u001b[0m\n\u001b[0;32m----> 3\u001b[0;31m   \u001b[0mdf\u001b[0m\u001b[0;34m[\u001b[0m\u001b[0mcolumn\u001b[0m\u001b[0;34m]\u001b[0m \u001b[0;34m=\u001b[0m \u001b[0mdf\u001b[0m\u001b[0;34m[\u001b[0m\u001b[0mcolumn\u001b[0m\u001b[0;34m]\u001b[0m\u001b[0;34m.\u001b[0m\u001b[0mstr\u001b[0m\u001b[0;34m.\u001b[0m\u001b[0mreplace\u001b[0m\u001b[0;34m(\u001b[0m\u001b[0;34m{\u001b[0m\u001b[0;34m'.'\u001b[0m\u001b[0;34m:\u001b[0m\u001b[0;34m''\u001b[0m\u001b[0;34m,\u001b[0m \u001b[0;34m',-'\u001b[0m\u001b[0;34m:\u001b[0m\u001b[0;34m''\u001b[0m\u001b[0;34m,\u001b[0m \u001b[0;34m'\\n'\u001b[0m\u001b[0;34m:\u001b[0m\u001b[0;34m''\u001b[0m\u001b[0;34m}\u001b[0m\u001b[0;34m)\u001b[0m\u001b[0;34m\u001b[0m\u001b[0;34m\u001b[0m\u001b[0m\n\u001b[0m\u001b[1;32m      4\u001b[0m   \u001b[0;31m# df[column] = df[column].str.extract('(\\d+)')\u001b[0m\u001b[0;34m\u001b[0m\u001b[0;34m\u001b[0m\u001b[0;34m\u001b[0m\u001b[0m\n\u001b[1;32m      5\u001b[0m \u001b[0;34m\u001b[0m\u001b[0m\n",
            "\u001b[0;32m/usr/local/lib/python3.6/dist-packages/pandas/core/strings.py\u001b[0m in \u001b[0;36mwrapper\u001b[0;34m(self, *args, **kwargs)\u001b[0m\n\u001b[1;32m   1999\u001b[0m                 )\n\u001b[1;32m   2000\u001b[0m                 \u001b[0;32mraise\u001b[0m \u001b[0mTypeError\u001b[0m\u001b[0;34m(\u001b[0m\u001b[0mmsg\u001b[0m\u001b[0;34m)\u001b[0m\u001b[0;34m\u001b[0m\u001b[0;34m\u001b[0m\u001b[0m\n\u001b[0;32m-> 2001\u001b[0;31m             \u001b[0;32mreturn\u001b[0m \u001b[0mfunc\u001b[0m\u001b[0;34m(\u001b[0m\u001b[0mself\u001b[0m\u001b[0;34m,\u001b[0m \u001b[0;34m*\u001b[0m\u001b[0margs\u001b[0m\u001b[0;34m,\u001b[0m \u001b[0;34m**\u001b[0m\u001b[0mkwargs\u001b[0m\u001b[0;34m)\u001b[0m\u001b[0;34m\u001b[0m\u001b[0;34m\u001b[0m\u001b[0m\n\u001b[0m\u001b[1;32m   2002\u001b[0m \u001b[0;34m\u001b[0m\u001b[0m\n\u001b[1;32m   2003\u001b[0m         \u001b[0mwrapper\u001b[0m\u001b[0;34m.\u001b[0m\u001b[0m__name__\u001b[0m \u001b[0;34m=\u001b[0m \u001b[0mfunc_name\u001b[0m\u001b[0;34m\u001b[0m\u001b[0;34m\u001b[0m\u001b[0m\n",
            "\u001b[0;31mTypeError\u001b[0m: replace() missing 1 required positional argument: 'repl'"
          ]
        }
      ]
    }
  ]
}