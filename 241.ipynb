{
  "nbformat": 4,
  "nbformat_minor": 0,
  "metadata": {
    "kernelspec": {
      "display_name": "Python 3",
      "language": "python",
      "name": "python3"
    },
    "language_info": {
      "codemirror_mode": {
        "name": "ipython",
        "version": 3
      },
      "file_extension": ".py",
      "mimetype": "text/x-python",
      "name": "python",
      "nbconvert_exporter": "python",
      "pygments_lexer": "ipython3",
      "version": "3.7.6"
    },
    "colab": {
      "name": "241.ipynb",
      "provenance": []
    }
  },
  "cells": [
    {
      "cell_type": "markdown",
      "metadata": {
        "id": "rVQQxrg_zCve"
      },
      "source": [
        "# Capstone Project"
      ]
    },
    {
      "cell_type": "markdown",
      "metadata": {
        "id": "hZHUBlKMzCvx"
      },
      "source": [
        "## Background"
      ]
    },
    {
      "cell_type": "markdown",
      "metadata": {
        "id": "OoRJtDqbzCvy"
      },
      "source": [
        "Woah time really flies and you already reached the last sprint of the second module in the course! You should be proud of yourself. In the past three sprints you were gaining precious knowledge that helped you acquire data engineering skills. Now you should know what good Python code looks like, why OOP is used, how to structure a Python project, how to work with SQL, how to develop and deploy a web application. All these skills will enable you to make outstanding projects that not only cover data analysis and modeling but also making your discoveries reachable to other people.\n",
        "\n",
        "Now the time has come to put all your learnings into one place and complete the second capstone project of the course. During this project, you will have to create a Python package, collect dataset using data scraping technique, train model and deploy it for others to reach.\n",
        "\n",
        "Most importantly you will have to create the whole E2E Machine Learning plan: establish the problem, collect dataset, train model, evaluate it and deploy it. By completing this project, you will strengthen your data engineering skills and prove to yourself and others that you are capable of planning and executing data science projects."
      ]
    },
    {
      "cell_type": "markdown",
      "metadata": {
        "id": "0IqKPUa6zCvy"
      },
      "source": [
        "<div style=\"text-align: center;\">\n",
        "<img src=\"https://miro.medium.com/max/700/1*x7P7gqjo8k2_bj2rTQWAfg.jpeg\"/ width=\"300px\">\n",
        "</div>"
      ]
    },
    {
      "cell_type": "markdown",
      "metadata": {
        "id": "uZae0sqLzCvz"
      },
      "source": [
        "---"
      ]
    },
    {
      "cell_type": "markdown",
      "metadata": {
        "id": "2JqYhVjizCvz"
      },
      "source": [
        "## Requirements\n",
        "The whole capstone project requires you to execute full-featured E2E Machine Learning Project so let's see what actually do you have to complete:\n",
        "\n",
        "### Define problem you want to solve\n",
        "This is the part where you have to select a problem. Here are the topics that you can choose from: text classification, price prediction, item category classification. Through the second module of the course, you saw a few examples of datasets that could be used to solve these problems (eBay listings, Reddit posts, Twitter tweets). In this stage you have to:\n",
        "- Define the problem and create a short presentation\n",
        "- Explain what do you want to solve, and what is the potential value of your solution\n",
        "- Define the data source you will collect data from\n",
        "\n",
        "### Collecting data\n",
        "During this stage, you will need to create a Python package that is able to scrape a specific website. You saw many examples during the period of the second module, where functions that take few arguments (`keywords`, `number of samples`, etc.) and outputs pandas `DataFrame`s were created. Now you will need to transform this functionality into a Python package that is installable through pip.\n",
        "- Create Python package that is able to scrape specific webpage\n",
        "- The package should be installable through `pip`\n",
        "- The package should meed all expected Python package standards: clean code, tests, documentation.\n",
        "- Collect and process dataset using your created package\n",
        "\n",
        "### Training and saving the model\n",
        "During this step, you will need to use your collected data to train, test, and save a machine learning model. Do not spend much time on this step just make sure that:\n",
        "- Correct machine learning algorithm is selected\n",
        "- Model is successfully trained (remember first module of the course)\n",
        "- Model is saved for later deployment\n",
        "\n",
        "### Creating API for the trained model\n",
        "This is the step you have done at least a couple of times. You will need to create an API using Flask. While creating the application you will need to do these things:\n",
        "- Load trained model\n",
        "- Create inference pipeline\n",
        "- Create `POST` route to reach model and send its outputs as a response\n",
        "\n",
        "### Tracking model's predictions\n",
        "Now you will need to enable model's predictions tracking. During this step, you will need to connect your flask application to the PostgreSQL database hosted by Heroku and put the model's inputs and outputs into one table:\n",
        "- Create PostgreSQL database hosted by Heroku\n",
        "- Create table for predictions tracking. There should be columns for inputs and outputs of model\n",
        "- At every request of model insert required values to the database\n",
        "- Create new route in Flask application that returns 10 most recent requests and responses in JSON format\n",
        "\n",
        "### Deploying the application\n",
        "After completing all the steps required above, you will need to deploy your application to Heroku. You will need to follow the steps provided in the fourth lesson of this sprint.\n",
        "- Make sure all secrets and passwords are set as ENV variables in Heroku\n",
        "- Deploy application to Heroku\n",
        "- Ensure that your application is accessible (provide link to it)"
      ]
    },
    {
      "cell_type": "markdown",
      "metadata": {
        "id": "J1zSKaFazCv0"
      },
      "source": [
        "---"
      ]
    },
    {
      "cell_type": "markdown",
      "metadata": {
        "id": "_0Nt1Qc0iuxp"
      },
      "source": [
        "Problem: I like motorcycles, want to know more and know correct price"
      ]
    },
    {
      "cell_type": "markdown",
      "metadata": {
        "id": "fBD1dJGIzCv0"
      },
      "source": [
        "## Evaluation criteria\n",
        "- All requirements are met\n",
        "- The project is well thought out. Defined problem is clearly presented\n",
        "- Model actually works, is able to make predictions that make sense\n",
        "- Written code is clear and clean. All the PEP8 standards are met"
      ]
    },
    {
      "cell_type": "code",
      "metadata": {
        "colab": {
          "base_uri": "https://localhost:8080/"
        },
        "id": "gYnZ3Xi3zRVC",
        "outputId": "17d5ac52-4949-45c3-dd25-5acc849b2c93"
      },
      "source": [
        "!pip install beautifulsoup4"
      ],
      "execution_count": null,
      "outputs": [
        {
          "output_type": "stream",
          "text": [
            "Requirement already satisfied: beautifulsoup4 in /usr/local/lib/python3.6/dist-packages (4.6.3)\n"
          ],
          "name": "stdout"
        }
      ]
    },
    {
      "cell_type": "code",
      "metadata": {
        "id": "VHxnUybPzooJ"
      },
      "source": [
        "from bs4 import BeautifulSoup\n",
        "import requests\n",
        "import pandas as pd"
      ],
      "execution_count": 3,
      "outputs": []
    },
    {
      "cell_type": "code",
      "metadata": {
        "id": "sXFtkjwXE9hz",
        "colab": {
          "base_uri": "https://localhost:8080/"
        },
        "outputId": "bd0303b6-c514-4b31-bec5-0661d6f6805f"
      },
      "source": [
        "headers = {\"User-Agent\": \"Mozilla/5.0\"}\n",
        "\n",
        "URL = \"https://www.autoscout24.nl/aanbod/honda-others-crf250r-ralley-benzine-rood-150226c1-6304-46fb-928e-3cd6da1db945?cldtidx=6&cldtsrc=listPage&searchId=b9380bcf\"\n",
        "page = requests.get(URL, headers=headers)\n",
        "soup = BeautifulSoup(page.content, \"html.parser\")\n",
        "\n",
        "schoolType = soup.find(\"dt\", text=\"Versnellingen\")\n",
        "print(schoolType.find_next_sibling(\"dd\").text)"
      ],
      "execution_count": null,
      "outputs": [
        {
          "output_type": "stream",
          "text": [
            "\n",
            "6\n",
            "\n"
          ],
          "name": "stdout"
        }
      ]
    },
    {
      "cell_type": "code",
      "metadata": {
        "id": "wKbrpELL_yxf"
      },
      "source": [
        "def collect_urls(pages_number: int) -> list:\n",
        "    \"\"\" Scrape url for number of pages and a keyword\n",
        "    and returns a pandas dataframe\"\"\"\n",
        "    km = []\n",
        "    keywords = ['kawasaki', 'honda', 'bmw', 'ktm', 'yamaha']\n",
        "\n",
        "    for page_no in range(1, pages_number + 1):\n",
        "        for keyword in keywords:\n",
        "            url = f\"https://www.autoscout24.nl/lst-moto/{keyword}?sort=standard&desc=0&offer=N%2CU&ustate=N%2CU&size=20&page={page_no}\"\n",
        "        # url = f\"https://www.autoscout24.nl/lst-moto?sort=standard&desc=0&ustate=N%2CU&size=20&page={page_no}\"\n",
        "        \n",
        "            print(page_no)\n",
        "\n",
        "            headers = {\"User-Agent\": \"Mozilla/5.0\"}\n",
        "            page = requests.get(url, headers=headers)\n",
        "            soup = BeautifulSoup(page.content, \"html.parser\")\n",
        "\n",
        "            km.extend([value[\"href\"] for value in soup.find_all(attrs={\"data-item-name\": \"detail-page-link\"})])\n",
        "\n",
        "    return km\n",
        "\n",
        "\n",
        "\n",
        "\n",
        "def collect_info(search_list: list) -> pd.DataFrame:\n",
        "    \"\"\" Scrape url for number of pages and a keyword\n",
        "    and returns a pandas dataframe\"\"\"\n",
        "    brand, price, km, kw, registration, category, cilinder_content, fuel = ([] for i in range(8))\n",
        "\n",
        "    for urls in search_list:\n",
        "        url = f\"https://www.autoscout24.nl{urls}\"\n",
        "\n",
        "        headers = {\"User-Agent\": \"Mozilla/5.0\"}\n",
        "        page = requests.get(url, headers=headers)\n",
        "        soup = BeautifulSoup(page.content, \"html.parser\")\n",
        "        # registration.extend([value.text for value in soup.find_all(attrs={\"data-type\": \"first-registration\"})])\n",
        "\n",
        "        # Price\n",
        "        try:\n",
        "          path = soup.find(\"div\", class_=\"cldt-price\")\n",
        "          anchor = path.find(\"h2\")\n",
        "          price.extend([anchor.text])\n",
        "        except:\n",
        "          price.extend([None])\n",
        "\n",
        "        # KM\n",
        "        try:\n",
        "          path = soup.find(\"span\", class_=\"cldt-stage-primary-keyfact\")\n",
        "          km.extend([path.text])\n",
        "        except:\n",
        "          km.extend([None])\n",
        "\n",
        "        # KW\n",
        "        try:\n",
        "          path = soup.find_all(\"span\", class_=\"cldt-stage-primary-keyfact\")\n",
        "          kw.extend([path[2].text])\n",
        "        except:\n",
        "          kw.extend([None])\n",
        "\n",
        "        # Registration\n",
        "        try:\n",
        "          path = soup.find(\"dt\", text=\"Bouwjaar\")\n",
        "          anchor = path.find_next_sibling(\"dd\").text\n",
        "          registration.extend([anchor])\n",
        "        except:\n",
        "          registration.extend([None])\n",
        "\n",
        "        # Brand\n",
        "        try:\n",
        "          path = soup.find(\"dt\", text=\"Merk\")\n",
        "          anchor = path.find_next_sibling(\"dd\").text\n",
        "          brand.extend([anchor])\n",
        "        except:\n",
        "          brand.extend([None])\n",
        "\n",
        "         # Category\n",
        "        try:\n",
        "          path = soup.find(\"dt\", text=\"Categorie\")\n",
        "          anchor = path.find_next_sibling(\"dd\").text\n",
        "          category.extend([anchor])\n",
        "        except:\n",
        "          category.extend([None])\n",
        "\n",
        "        # Owners\n",
        "        # try:\n",
        "        #   path = soup.find(\"dt\", text=\"Vorige eigenaren\")\n",
        "        #   anchor = path.find_next_sibling(\"dd\").text\n",
        "        #   owners.extend([anchor])\n",
        "        # except:\n",
        "        #   owners.extend([None])\n",
        "\n",
        "        # Gears\n",
        "        # try:\n",
        "        #   path = soup.find(\"dt\", text=\"Versnellingen\")\n",
        "        #   anchor = path.find_next_sibling(\"dd\").text\n",
        "        #   gears.extend([anchor])\n",
        "        # except:\n",
        "        #   gears.extend([None])\n",
        "\n",
        "         # Fuel\n",
        "        try:\n",
        "          path = soup.find(\"dt\", text=\"Brandstof\")\n",
        "          anchor = path.find_next_sibling(\"dd\").text\n",
        "          fuel.extend([anchor])\n",
        "        except:\n",
        "          fuel.extend([None])\n",
        "\n",
        "        # Cilinders\n",
        "        # try:\n",
        "        #   path = soup.find(\"dt\", text=\"Cilinders\")\n",
        "        #   anchor = path.find_next_sibling(\"dd\").text\n",
        "        #   cilinders.extend([anchor])\n",
        "        # except:\n",
        "        #   cilinders.extend([None])\n",
        "\n",
        "        # Cilinder_content\n",
        "        try:\n",
        "          path = soup.find(\"dt\", text=\"Cilinderinhoud\")\n",
        "          anchor = path.find_next_sibling(\"dd\").text\n",
        "          cilinder_content.extend([anchor])\n",
        "        except:\n",
        "          cilinder_content.extend([None])\n",
        "\n",
        "        # Seats\n",
        "        # try:\n",
        "        #   path = soup.find(\"dt\", text=\"Stoelen\")\n",
        "        #   anchor = path.find_next_sibling(\"dd\").text\n",
        "        #   seats.extend([anchor])\n",
        "        # except:\n",
        "        #   seats.extend([None])\n",
        "\n",
        "    dict_ = {\n",
        "        \"brand\": brand,\n",
        "        \"price\": price,\n",
        "        \"milage\": km,\n",
        "        \"power\": kw,\n",
        "        \"category\": category,\n",
        "        \"first_registration\": registration,\n",
        "        # \"gears\": gears,\n",
        "        # \"previous_owners\": owners,\n",
        "        \"fuel\": fuel,\n",
        "        # \"cilinders\": cilinders,\n",
        "        \"cilinder_content\": cilinder_content\n",
        "        # \"seats\": seats\n",
        "    }\n",
        "\n",
        "    df = pd.DataFrame.from_dict(dict_, orient='index')\n",
        "    df = df.transpose()\n",
        "\n",
        "    return df\n"
      ],
      "execution_count": 62,
      "outputs": []
    },
    {
      "cell_type": "code",
      "metadata": {
        "id": "gs2YCKKiLmcw",
        "colab": {
          "base_uri": "https://localhost:8080/"
        },
        "outputId": "5d28791b-02e7-4eb6-bc6d-22a384ae00ff"
      },
      "source": [
        "list_try = collect_urls(10)"
      ],
      "execution_count": 74,
      "outputs": [
        {
          "output_type": "stream",
          "text": [
            "1\n",
            "1\n",
            "1\n",
            "1\n",
            "1\n",
            "2\n",
            "2\n",
            "2\n",
            "2\n",
            "2\n",
            "3\n",
            "3\n",
            "3\n",
            "3\n",
            "3\n",
            "4\n",
            "4\n",
            "4\n",
            "4\n",
            "4\n",
            "5\n",
            "5\n",
            "5\n",
            "5\n",
            "5\n",
            "6\n",
            "6\n",
            "6\n",
            "6\n",
            "6\n",
            "7\n",
            "7\n",
            "7\n",
            "7\n",
            "7\n",
            "8\n",
            "8\n",
            "8\n",
            "8\n",
            "8\n",
            "9\n",
            "9\n",
            "9\n",
            "9\n",
            "9\n",
            "10\n",
            "10\n",
            "10\n",
            "10\n",
            "10\n"
          ],
          "name": "stdout"
        }
      ]
    },
    {
      "cell_type": "code",
      "metadata": {
        "id": "sPgdWTm32EOc",
        "outputId": "6db96715-15db-456e-b975-7f9e07cc70fe",
        "colab": {
          "base_uri": "https://localhost:8080/"
        }
      },
      "source": [
        "print(len(list_try))"
      ],
      "execution_count": 78,
      "outputs": [
        {
          "output_type": "stream",
          "text": [
            "840\n"
          ],
          "name": "stdout"
        }
      ]
    },
    {
      "cell_type": "code",
      "metadata": {
        "id": "r9CQ4i75OGV_"
      },
      "source": [
        "df = collect_info(list_try)"
      ],
      "execution_count": 77,
      "outputs": []
    },
    {
      "cell_type": "code",
      "metadata": {
        "id": "Ah-BiOTFihwE",
        "colab": {
          "base_uri": "https://localhost:8080/",
          "height": 204
        },
        "outputId": "950cd035-42bf-4e17-e0a2-078358b811d7"
      },
      "source": [
        "df.head()"
      ],
      "execution_count": 79,
      "outputs": [
        {
          "output_type": "execute_result",
          "data": {
            "text/html": [
              "<div>\n",
              "<style scoped>\n",
              "    .dataframe tbody tr th:only-of-type {\n",
              "        vertical-align: middle;\n",
              "    }\n",
              "\n",
              "    .dataframe tbody tr th {\n",
              "        vertical-align: top;\n",
              "    }\n",
              "\n",
              "    .dataframe thead th {\n",
              "        text-align: right;\n",
              "    }\n",
              "</style>\n",
              "<table border=\"1\" class=\"dataframe\">\n",
              "  <thead>\n",
              "    <tr style=\"text-align: right;\">\n",
              "      <th></th>\n",
              "      <th>brand</th>\n",
              "      <th>price</th>\n",
              "      <th>milage</th>\n",
              "      <th>power</th>\n",
              "      <th>category</th>\n",
              "      <th>first_registration</th>\n",
              "      <th>fuel</th>\n",
              "      <th>cilinder_content</th>\n",
              "    </tr>\n",
              "  </thead>\n",
              "  <tbody>\n",
              "    <tr>\n",
              "      <th>0</th>\n",
              "      <td>\\nKawasaki\\n</td>\n",
              "      <td>\\n€ 3.950,-\\n</td>\n",
              "      <td>25.000 km</td>\n",
              "      <td>25 kW</td>\n",
              "      <td>\\nGebruikt\\n</td>\n",
              "      <td>\\n1996\\n</td>\n",
              "      <td>\\nBenzine\\n</td>\n",
              "      <td>\\n805 cm³\\n</td>\n",
              "    </tr>\n",
              "    <tr>\n",
              "      <th>1</th>\n",
              "      <td>\\nKawasaki\\n</td>\n",
              "      <td>\\n€ 4.395,-\\n</td>\n",
              "      <td>- km</td>\n",
              "      <td>11 kW</td>\n",
              "      <td>\\nNieuw\\n</td>\n",
              "      <td>\\n2021\\n</td>\n",
              "      <td>\\nBenzine\\n</td>\n",
              "      <td>\\n125 cm³\\n</td>\n",
              "    </tr>\n",
              "    <tr>\n",
              "      <th>2</th>\n",
              "      <td>\\nKawasaki\\n</td>\n",
              "      <td>\\n€ 4.695,-\\n</td>\n",
              "      <td>- km</td>\n",
              "      <td>11 kW</td>\n",
              "      <td>\\nNieuw\\n</td>\n",
              "      <td>\\n2021\\n</td>\n",
              "      <td>\\nBenzine\\n</td>\n",
              "      <td>\\n125 cm³\\n</td>\n",
              "    </tr>\n",
              "    <tr>\n",
              "      <th>3</th>\n",
              "      <td>\\nKawasaki\\n</td>\n",
              "      <td>\\n€ 5.595,-\\n</td>\n",
              "      <td>33.000 km</td>\n",
              "      <td>47 kW</td>\n",
              "      <td>\\nGebruikt\\n</td>\n",
              "      <td>\\n1999\\n</td>\n",
              "      <td>\\nBenzine\\n</td>\n",
              "      <td>\\n1.471 cm³\\n</td>\n",
              "    </tr>\n",
              "    <tr>\n",
              "      <th>4</th>\n",
              "      <td>\\nKawasaki\\n</td>\n",
              "      <td>\\n€ 6.289,-\\n</td>\n",
              "      <td>18.043 km</td>\n",
              "      <td>50 kW</td>\n",
              "      <td>\\nGebruikt\\n</td>\n",
              "      <td>\\n2018\\n</td>\n",
              "      <td>\\nBenzine\\n</td>\n",
              "      <td>\\n649 cm³\\n</td>\n",
              "    </tr>\n",
              "  </tbody>\n",
              "</table>\n",
              "</div>"
            ],
            "text/plain": [
              "          brand          price  ...         fuel cilinder_content\n",
              "0  \\nKawasaki\\n  \\n€ 3.950,-\\n  ...  \\nBenzine\\n      \\n805 cm³\\n\n",
              "1  \\nKawasaki\\n  \\n€ 4.395,-\\n  ...  \\nBenzine\\n      \\n125 cm³\\n\n",
              "2  \\nKawasaki\\n  \\n€ 4.695,-\\n  ...  \\nBenzine\\n      \\n125 cm³\\n\n",
              "3  \\nKawasaki\\n  \\n€ 5.595,-\\n  ...  \\nBenzine\\n    \\n1.471 cm³\\n\n",
              "4  \\nKawasaki\\n  \\n€ 6.289,-\\n  ...  \\nBenzine\\n      \\n649 cm³\\n\n",
              "\n",
              "[5 rows x 8 columns]"
            ]
          },
          "metadata": {
            "tags": []
          },
          "execution_count": 79
        }
      ]
    },
    {
      "cell_type": "code",
      "metadata": {
        "colab": {
          "base_uri": "https://localhost:8080/"
        },
        "id": "x2yFD_ea_KMJ",
        "outputId": "f2a9468b-fafe-4aef-ccb2-7dd1ffb3f810"
      },
      "source": [
        "df.shape"
      ],
      "execution_count": 80,
      "outputs": [
        {
          "output_type": "execute_result",
          "data": {
            "text/plain": [
              "(840, 8)"
            ]
          },
          "metadata": {
            "tags": []
          },
          "execution_count": 80
        }
      ]
    },
    {
      "cell_type": "code",
      "metadata": {
        "id": "zCU9oGLczcEB",
        "colab": {
          "base_uri": "https://localhost:8080/"
        },
        "outputId": "293bce23-32f6-42e6-fc51-d25d13effba7"
      },
      "source": [
        "df.columns"
      ],
      "execution_count": 68,
      "outputs": [
        {
          "output_type": "execute_result",
          "data": {
            "text/plain": [
              "Index(['brand', 'price', 'milage', 'power', 'category', 'first_registration',\n",
              "       'fuel', 'cilinder_content'],\n",
              "      dtype='object')"
            ]
          },
          "metadata": {
            "tags": []
          },
          "execution_count": 68
        }
      ]
    },
    {
      "cell_type": "code",
      "metadata": {
        "id": "9RU00gxrw6LE",
        "colab": {
          "base_uri": "https://localhost:8080/",
          "height": 204
        },
        "outputId": "8013132f-8b68-4b7a-d099-188241f362e3"
      },
      "source": [
        "for column in df.columns:\n",
        "  df[column] = df[column].str.replace('.', '')\n",
        "  df[column] = df[column].str.replace('\\n', '')\n",
        "  if column is 'price':\n",
        "    df.price = df.price.str.extract('(\\d+)')\n",
        "  elif column is 'cilinder_content':\n",
        "    df.cilinder_content = df.cilinder_content.str.extract('(\\d+)')\n",
        "  elif column is 'power':\n",
        "    df.power = df.power.str.extract('(\\d+)')\n",
        "  elif column is 'milage':\n",
        "    df.milage = df.milage.str.extract('(\\d+)')\n",
        "\n",
        "\n",
        "df.head()"
      ],
      "execution_count": 81,
      "outputs": [
        {
          "output_type": "execute_result",
          "data": {
            "text/html": [
              "<div>\n",
              "<style scoped>\n",
              "    .dataframe tbody tr th:only-of-type {\n",
              "        vertical-align: middle;\n",
              "    }\n",
              "\n",
              "    .dataframe tbody tr th {\n",
              "        vertical-align: top;\n",
              "    }\n",
              "\n",
              "    .dataframe thead th {\n",
              "        text-align: right;\n",
              "    }\n",
              "</style>\n",
              "<table border=\"1\" class=\"dataframe\">\n",
              "  <thead>\n",
              "    <tr style=\"text-align: right;\">\n",
              "      <th></th>\n",
              "      <th>brand</th>\n",
              "      <th>price</th>\n",
              "      <th>milage</th>\n",
              "      <th>power</th>\n",
              "      <th>category</th>\n",
              "      <th>first_registration</th>\n",
              "      <th>fuel</th>\n",
              "      <th>cilinder_content</th>\n",
              "    </tr>\n",
              "  </thead>\n",
              "  <tbody>\n",
              "    <tr>\n",
              "      <th>0</th>\n",
              "      <td>Kawasaki</td>\n",
              "      <td>3950</td>\n",
              "      <td>25000</td>\n",
              "      <td>25</td>\n",
              "      <td>Gebruikt</td>\n",
              "      <td>1996</td>\n",
              "      <td>Benzine</td>\n",
              "      <td>805</td>\n",
              "    </tr>\n",
              "    <tr>\n",
              "      <th>1</th>\n",
              "      <td>Kawasaki</td>\n",
              "      <td>4395</td>\n",
              "      <td>NaN</td>\n",
              "      <td>11</td>\n",
              "      <td>Nieuw</td>\n",
              "      <td>2021</td>\n",
              "      <td>Benzine</td>\n",
              "      <td>125</td>\n",
              "    </tr>\n",
              "    <tr>\n",
              "      <th>2</th>\n",
              "      <td>Kawasaki</td>\n",
              "      <td>4695</td>\n",
              "      <td>NaN</td>\n",
              "      <td>11</td>\n",
              "      <td>Nieuw</td>\n",
              "      <td>2021</td>\n",
              "      <td>Benzine</td>\n",
              "      <td>125</td>\n",
              "    </tr>\n",
              "    <tr>\n",
              "      <th>3</th>\n",
              "      <td>Kawasaki</td>\n",
              "      <td>5595</td>\n",
              "      <td>33000</td>\n",
              "      <td>47</td>\n",
              "      <td>Gebruikt</td>\n",
              "      <td>1999</td>\n",
              "      <td>Benzine</td>\n",
              "      <td>1471</td>\n",
              "    </tr>\n",
              "    <tr>\n",
              "      <th>4</th>\n",
              "      <td>Kawasaki</td>\n",
              "      <td>6289</td>\n",
              "      <td>18043</td>\n",
              "      <td>50</td>\n",
              "      <td>Gebruikt</td>\n",
              "      <td>2018</td>\n",
              "      <td>Benzine</td>\n",
              "      <td>649</td>\n",
              "    </tr>\n",
              "  </tbody>\n",
              "</table>\n",
              "</div>"
            ],
            "text/plain": [
              "      brand price milage  ... first_registration     fuel cilinder_content\n",
              "0  Kawasaki  3950  25000  ...               1996  Benzine              805\n",
              "1  Kawasaki  4395    NaN  ...               2021  Benzine              125\n",
              "2  Kawasaki  4695    NaN  ...               2021  Benzine              125\n",
              "3  Kawasaki  5595  33000  ...               1999  Benzine             1471\n",
              "4  Kawasaki  6289  18043  ...               2018  Benzine              649\n",
              "\n",
              "[5 rows x 8 columns]"
            ]
          },
          "metadata": {
            "tags": []
          },
          "execution_count": 81
        }
      ]
    },
    {
      "cell_type": "code",
      "metadata": {
        "colab": {
          "base_uri": "https://localhost:8080/"
        },
        "id": "YCS_2BtB8HvS",
        "outputId": "4d9b2980-3301-4849-eb3f-09eb4f83715c"
      },
      "source": [
        "df.info()"
      ],
      "execution_count": 82,
      "outputs": [
        {
          "output_type": "stream",
          "text": [
            "<class 'pandas.core.frame.DataFrame'>\n",
            "RangeIndex: 840 entries, 0 to 839\n",
            "Data columns (total 8 columns):\n",
            " #   Column              Non-Null Count  Dtype \n",
            "---  ------              --------------  ----- \n",
            " 0   brand               840 non-null    object\n",
            " 1   price               840 non-null    object\n",
            " 2   milage              703 non-null    object\n",
            " 3   power               814 non-null    object\n",
            " 4   category            840 non-null    object\n",
            " 5   first_registration  662 non-null    object\n",
            " 6   fuel                782 non-null    object\n",
            " 7   cilinder_content    617 non-null    object\n",
            "dtypes: object(8)\n",
            "memory usage: 52.6+ KB\n"
          ],
          "name": "stdout"
        }
      ]
    },
    {
      "cell_type": "code",
      "metadata": {
        "id": "z7VpyEIsG8Ft",
        "outputId": "c93af6e7-0c02-446c-976d-519639dd45e0",
        "colab": {
          "base_uri": "https://localhost:8080/",
          "height": 204
        }
      },
      "source": [
        "df.head()"
      ],
      "execution_count": 83,
      "outputs": [
        {
          "output_type": "execute_result",
          "data": {
            "text/html": [
              "<div>\n",
              "<style scoped>\n",
              "    .dataframe tbody tr th:only-of-type {\n",
              "        vertical-align: middle;\n",
              "    }\n",
              "\n",
              "    .dataframe tbody tr th {\n",
              "        vertical-align: top;\n",
              "    }\n",
              "\n",
              "    .dataframe thead th {\n",
              "        text-align: right;\n",
              "    }\n",
              "</style>\n",
              "<table border=\"1\" class=\"dataframe\">\n",
              "  <thead>\n",
              "    <tr style=\"text-align: right;\">\n",
              "      <th></th>\n",
              "      <th>brand</th>\n",
              "      <th>price</th>\n",
              "      <th>milage</th>\n",
              "      <th>power</th>\n",
              "      <th>category</th>\n",
              "      <th>first_registration</th>\n",
              "      <th>fuel</th>\n",
              "      <th>cilinder_content</th>\n",
              "    </tr>\n",
              "  </thead>\n",
              "  <tbody>\n",
              "    <tr>\n",
              "      <th>0</th>\n",
              "      <td>Kawasaki</td>\n",
              "      <td>3950</td>\n",
              "      <td>25000</td>\n",
              "      <td>25</td>\n",
              "      <td>Gebruikt</td>\n",
              "      <td>1996</td>\n",
              "      <td>Benzine</td>\n",
              "      <td>805</td>\n",
              "    </tr>\n",
              "    <tr>\n",
              "      <th>1</th>\n",
              "      <td>Kawasaki</td>\n",
              "      <td>4395</td>\n",
              "      <td>NaN</td>\n",
              "      <td>11</td>\n",
              "      <td>Nieuw</td>\n",
              "      <td>2021</td>\n",
              "      <td>Benzine</td>\n",
              "      <td>125</td>\n",
              "    </tr>\n",
              "    <tr>\n",
              "      <th>2</th>\n",
              "      <td>Kawasaki</td>\n",
              "      <td>4695</td>\n",
              "      <td>NaN</td>\n",
              "      <td>11</td>\n",
              "      <td>Nieuw</td>\n",
              "      <td>2021</td>\n",
              "      <td>Benzine</td>\n",
              "      <td>125</td>\n",
              "    </tr>\n",
              "    <tr>\n",
              "      <th>3</th>\n",
              "      <td>Kawasaki</td>\n",
              "      <td>5595</td>\n",
              "      <td>33000</td>\n",
              "      <td>47</td>\n",
              "      <td>Gebruikt</td>\n",
              "      <td>1999</td>\n",
              "      <td>Benzine</td>\n",
              "      <td>1471</td>\n",
              "    </tr>\n",
              "    <tr>\n",
              "      <th>4</th>\n",
              "      <td>Kawasaki</td>\n",
              "      <td>6289</td>\n",
              "      <td>18043</td>\n",
              "      <td>50</td>\n",
              "      <td>Gebruikt</td>\n",
              "      <td>2018</td>\n",
              "      <td>Benzine</td>\n",
              "      <td>649</td>\n",
              "    </tr>\n",
              "  </tbody>\n",
              "</table>\n",
              "</div>"
            ],
            "text/plain": [
              "      brand price milage  ... first_registration     fuel cilinder_content\n",
              "0  Kawasaki  3950  25000  ...               1996  Benzine              805\n",
              "1  Kawasaki  4395    NaN  ...               2021  Benzine              125\n",
              "2  Kawasaki  4695    NaN  ...               2021  Benzine              125\n",
              "3  Kawasaki  5595  33000  ...               1999  Benzine             1471\n",
              "4  Kawasaki  6289  18043  ...               2018  Benzine              649\n",
              "\n",
              "[5 rows x 8 columns]"
            ]
          },
          "metadata": {
            "tags": []
          },
          "execution_count": 83
        }
      ]
    },
    {
      "cell_type": "code",
      "metadata": {
        "id": "Tu7dL58XF80y"
      },
      "source": [
        "df[[\"price\", \"milage\", \"power\", \"cilinder_content\"]] = df[[\"price\", \"milage\", \"power\", \"cilinder_content\"]].apply(pd.to_numeric)"
      ],
      "execution_count": 12,
      "outputs": []
    },
    {
      "cell_type": "code",
      "metadata": {
        "id": "IulrUbc1Gr9s"
      },
      "source": [
        "df['first_registration'] = pd.to_datetime(df['first_registration'])"
      ],
      "execution_count": 17,
      "outputs": []
    },
    {
      "cell_type": "code",
      "metadata": {
        "id": "xXHNG52zQcz3",
        "outputId": "58419e19-45c7-4bf3-d200-e170ea3f976d",
        "colab": {
          "base_uri": "https://localhost:8080/"
        }
      },
      "source": [
        "df.category.value_counts()"
      ],
      "execution_count": 71,
      "outputs": [
        {
          "output_type": "execute_result",
          "data": {
            "text/plain": [
              "Gebruikt    130\n",
              "Nieuw        30\n",
              "Name: category, dtype: int64"
            ]
          },
          "metadata": {
            "tags": []
          },
          "execution_count": 71
        }
      ]
    },
    {
      "cell_type": "code",
      "metadata": {
        "id": "6RaHS8miIG3s",
        "outputId": "3c5e0801-90c3-4fc7-b6cf-232b9c071ddb",
        "colab": {
          "base_uri": "https://localhost:8080/"
        }
      },
      "source": [
        "df.brand.value_counts()"
      ],
      "execution_count": 72,
      "outputs": [
        {
          "output_type": "execute_result",
          "data": {
            "text/plain": [
              "BMW         40\n",
              "Yamaha      40\n",
              "Honda       40\n",
              "KTM         20\n",
              "Kawasaki    20\n",
              "Name: brand, dtype: int64"
            ]
          },
          "metadata": {
            "tags": []
          },
          "execution_count": 72
        }
      ]
    },
    {
      "cell_type": "code",
      "metadata": {
        "id": "wix6kx8hQfCS",
        "outputId": "74d9ef9c-7764-4716-9207-2f7c68358072",
        "colab": {
          "base_uri": "https://localhost:8080/"
        }
      },
      "source": [
        "df.fuel.value_counts()"
      ],
      "execution_count": 73,
      "outputs": [
        {
          "output_type": "execute_result",
          "data": {
            "text/plain": [
              "Benzine       130\n",
              "Super 95        7\n",
              "Overig          5\n",
              "Tweetakt        1\n",
              "Elektrisch      1\n",
              "Diesel          1\n",
              "Name: fuel, dtype: int64"
            ]
          },
          "metadata": {
            "tags": []
          },
          "execution_count": 73
        }
      ]
    },
    {
      "cell_type": "markdown",
      "metadata": {
        "id": "aNtsizcQjJMw"
      },
      "source": [
        "#### linear regression"
      ]
    },
    {
      "cell_type": "code",
      "metadata": {
        "id": "kkF1YfqXxjMj"
      },
      "source": [
        "from sklearn.linear_model import LinearRegression\n",
        "from sklearn.metrics import mean_squared_error, r2_score\n",
        "\n",
        "from sklearn.model_selection import train_test_split\n",
        "from sklearn.metrics import accuracy_score\n",
        "\n",
        "import matplotlib.pyplot as plt"
      ],
      "execution_count": 24,
      "outputs": []
    },
    {
      "cell_type": "code",
      "metadata": {
        "id": "ftAoE-EzjtJn"
      },
      "source": [
        "# Add categorised values\n",
        "full_df['state_cat'] = full_df['state'].astype('category').cat.codes"
      ],
      "execution_count": null,
      "outputs": []
    },
    {
      "cell_type": "code",
      "metadata": {
        "id": "Zda0Ahx0CHnY"
      },
      "source": [
        "# Get all interesting features for linear regression\n",
        "features_lin = ['brand', 'price', 'milage', 'power', 'category', \n",
        "                'first_registration', 'fuel', 'cilinder_content']"
      ],
      "execution_count": null,
      "outputs": []
    },
    {
      "cell_type": "code",
      "metadata": {
        "id": "Y2zE7ssCAdhu"
      },
      "source": [
        "# Set X as df\n",
        "X = full_df[features_lin]"
      ],
      "execution_count": null,
      "outputs": []
    },
    {
      "cell_type": "code",
      "metadata": {
        "id": "exPwiTz2AarZ"
      },
      "source": [
        "# Set dummy variables\n",
        "X = pd.get_dummies(data=X, drop_first=True)\n",
        "X.head()"
      ],
      "execution_count": null,
      "outputs": []
    },
    {
      "cell_type": "code",
      "metadata": {
        "id": "chPd9gEj2Lf6"
      },
      "source": [
        "# Set all columns incl dummy variables as features_x\n",
        "features_x = X.columns"
      ],
      "execution_count": null,
      "outputs": []
    },
    {
      "cell_type": "code",
      "metadata": {
        "id": "YvbNHPS28K5O"
      },
      "source": [
        "# X = StandardScaler().fit_transform(X)\n",
        "\n",
        "y = df[['price']]"
      ],
      "execution_count": 25,
      "outputs": []
    },
    {
      "cell_type": "code",
      "metadata": {
        "id": "PJLMu-Gp77PW"
      },
      "source": [
        "# Set train and test data\n",
        "X_train, X_test, y_train, y_test = train_test_split(X, y, test_size=0.2, random_state=1)\n",
        "\n",
        "# Fit linear regression\n",
        "model_lin = LinearRegression().fit(X_train,y_train)"
      ],
      "execution_count": null,
      "outputs": []
    },
    {
      "cell_type": "code",
      "metadata": {
        "id": "-te9PW5J8gff"
      },
      "source": [
        "# Predictions\n",
        "predictions = model_lin.predict(X_test)"
      ],
      "execution_count": null,
      "outputs": []
    },
    {
      "cell_type": "code",
      "metadata": {
        "id": "QRJXTTQz85bD"
      },
      "source": [
        "# Get summary\n",
        "X_train_Sm= sm.add_constant(X_train)\n",
        "X_test_Sm= sm.add_constant(X_test)\n",
        "ls=sm.OLS(y_test,X_test_Sm).fit()\n",
        "print(ls.summary())"
      ],
      "execution_count": null,
      "outputs": []
    }
  ]
}