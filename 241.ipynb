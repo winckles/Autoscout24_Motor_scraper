{
 "cells": [
  {
   "cell_type": "markdown",
   "metadata": {},
   "source": [
    "# Capstone Project"
   ]
  },
  {
   "cell_type": "markdown",
   "metadata": {},
   "source": [
    "## Background"
   ]
  },
  {
   "cell_type": "markdown",
   "metadata": {},
   "source": [
    "Woah time really flies and you already reached the last sprint of the second module in the course! You should be proud of yourself. In the past three sprints you were gaining precious knowledge that helped you acquire data engineering skills. Now you should know what good Python code looks like, why OOP is used, how to structure a Python project, how to work with SQL, how to develop and deploy a web application. All these skills will enable you to make outstanding projects that not only cover data analysis and modeling but also making your discoveries reachable to other people.\n",
    "\n",
    "Now the time has come to put all your learnings into one place and complete the second capstone project of the course. During this project, you will have to create a Python package, collect dataset using data scraping technique, train model and deploy it for others to reach.\n",
    "\n",
    "Most importantly you will have to create the whole E2E Machine Learning plan: establish the problem, collect dataset, train model, evaluate it and deploy it. By completing this project, you will strengthen your data engineering skills and prove to yourself and others that you are capable of planning and executing data science projects."
   ]
  },
  {
   "cell_type": "markdown",
   "metadata": {},
   "source": [
    "<div style=\"text-align: center;\">\n",
    "<img src=\"https://miro.medium.com/max/700/1*x7P7gqjo8k2_bj2rTQWAfg.jpeg\"/ width=\"300px\">\n",
    "</div>"
   ]
  },
  {
   "cell_type": "markdown",
   "metadata": {},
   "source": [
    "---"
   ]
  },
  {
   "cell_type": "markdown",
   "metadata": {},
   "source": [
    "## Requirements\n",
    "The whole capstone project requires you to execute full-featured E2E Machine Learning Project so let's see what actually do you have to complete:\n",
    "\n",
    "### Define problem you want to solve\n",
    "This is the part where you have to select a problem. Here are the topics that you can choose from: text classification, price prediction, item category classification. Through the second module of the course, you saw a few examples of datasets that could be used to solve these problems (eBay listings, Reddit posts, Twitter tweets). In this stage you have to:\n",
    "- Define the problem and create a short presentation\n",
    "- Explain what do you want to solve, and what is the potential value of your solution\n",
    "- Define the data source you will collect data from\n",
    "\n",
    "### Collecting data\n",
    "During this stage, you will need to create a Python package that is able to scrape a specific website. You saw many examples during the period of the second module, where functions that take few arguments (`keywords`, `number of samples`, etc.) and outputs pandas `DataFrame`s were created. Now you will need to transform this functionality into a Python package that is installable through pip.\n",
    "- Create Python package that is able to scrape specific webpage\n",
    "- The package should be installable through `pip`\n",
    "- The package should meed all expected Python package standards: clean code, tests, documentation.\n",
    "- Collect and process dataset using your created package\n",
    "\n",
    "### Training and saving the model\n",
    "During this step, you will need to use your collected data to train, test, and save a machine learning model. Do not spend much time on this step just make sure that:\n",
    "- Correct machine learning algorithm is selected\n",
    "- Model is successfully trained (remember first module of the course)\n",
    "- Model is saved for later deployment\n",
    "\n",
    "### Creating API for the trained model\n",
    "This is the step you have done at least a couple of times. You will need to create an API using Flask. While creating the application you will need to do these things:\n",
    "- Load trained model\n",
    "- Create inference pipeline\n",
    "- Create `POST` route to reach model and send its outputs as a response\n",
    "\n",
    "### Tracking model's predictions\n",
    "Now you will need to enable model's predictions tracking. During this step, you will need to connect your flask application to the PostgreSQL database hosted by Heroku and put the model's inputs and outputs into one table:\n",
    "- Create PostgreSQL database hosted by Heroku\n",
    "- Create table for predictions tracking. There should be columns for inputs and outputs of model\n",
    "- At every request of model insert required values to the database\n",
    "- Create new route in Flask application that returns 10 most recent requests and responses in JSON format\n",
    "\n",
    "### Deploying the application\n",
    "After completing all the steps required above, you will need to deploy your application to Heroku. You will need to follow the steps provided in the fourth lesson of this sprint.\n",
    "- Make sure all secrets and passwords are set as ENV variables in Heroku\n",
    "- Deploy application to Heroku\n",
    "- Ensure that your application is accessible (provide link to it)"
   ]
  },
  {
   "cell_type": "markdown",
   "metadata": {},
   "source": [
    "---"
   ]
  },
  {
   "cell_type": "markdown",
   "metadata": {},
   "source": [
    "## Evaluation criteria\n",
    "- All requirements are met\n",
    "- The project is well thought out. Defined problem is clearly presented\n",
    "- Model actually works, is able to make predictions that make sense\n",
    "- Written code is clear and clean. All the PEP8 standards are met"
   ]
  }
 ],
 "metadata": {
  "kernelspec": {
   "display_name": "Python 3",
   "language": "python",
   "name": "python3"
  },
  "language_info": {
   "codemirror_mode": {
    "name": "ipython",
    "version": 3
   },
   "file_extension": ".py",
   "mimetype": "text/x-python",
   "name": "python",
   "nbconvert_exporter": "python",
   "pygments_lexer": "ipython3",
   "version": "3.7.6"
  }
 },
 "nbformat": 4,
 "nbformat_minor": 4
}
